{
 "cells": [
  {
   "cell_type": "code",
   "execution_count": null,
   "metadata": {},
   "outputs": [],
   "source": [
    "# --- start make file run from another dir ---\n",
    "#\n",
    "# Note: File should be run from XKE root dir. E.g.:\n",
    "#\n",
    "#       $ cd Projects/XKE\n",
    "#       $ python examples/emb_grid_search/grid_search_TransE_FB13.py\n",
    "#\n",
    "import os, sys\n",
    "file_ = os.path.join(os.path.abspath(sys.path[0])) # use this when inside a jupyter notebook\n",
    "# file_ = __file__ # use this when running from command line\n",
    "xke_root = os.path.abspath(os.path.join(file_, \"../\"))\n",
    "sys.path.insert(0, xke_root)\n",
    "# --- end make file run from another dir ---"
   ]
  },
  {
   "cell_type": "code",
   "execution_count": null,
   "metadata": {},
   "outputs": [],
   "source": [
    "%load_ext autoreload\n",
    "%autoreload 2\n",
    "\n",
    "# from sfe.sfe import Graph, SFE\n",
    "# import pandas as pd\n",
    "# import numpy as np\n",
    "# import os, time\n",
    "\n",
    "import time\n",
    "from pipeline import pipeline\n",
    "from helpers import build_graph_input_from_benchmark"
   ]
  },
  {
   "cell_type": "code",
   "execution_count": null,
   "metadata": {},
   "outputs": [],
   "source": [
    "dataset_str = 'FB13'\n",
    "\n",
    "build_graph_input_from_benchmark('../benchmarks/{}/'.format(dataset_str))\n",
    "\n",
    "sfe = pipeline(\n",
    "    # Files & Directories paths\n",
    "    pra_graph_input_path=\\\n",
    "        '../benchmarks/{}/pra_graph_input/'.format(dataset_str),\n",
    "    datasets_paths=[\n",
    "#         '../benchmarks/{}/train.txt'.format(dataset_str),\n",
    "        '../benchmarks/{}/valid.txt'.format(dataset_str),\n",
    "#         '../benchmarks/{}/test.txt'.format(dataset_str),\n",
    "    ], \n",
    "    output_dir=\\\n",
    "        './results/{}/{}'.format(dataset_str, int(time.time())),\n",
    "    # SFE options\n",
    "    max_depth=2,\n",
    "    max_fan_out=100,\n",
    "    bfs_memory_size=1000,\n",
    "    batch_size=10000, # number of features that will be processed in a row before saving them to disk (and freeing up memory space). Notice that this applies to each Process, so in practice this number is multiplied by the number of cores.\n",
    ")"
   ]
  }
 ],
 "metadata": {
  "kernelspec": {
   "display_name": "Python 2",
   "language": "python",
   "name": "python2"
  },
  "language_info": {
   "codemirror_mode": {
    "name": "ipython",
    "version": 2
   },
   "file_extension": ".py",
   "mimetype": "text/x-python",
   "name": "python",
   "nbconvert_exporter": "python",
   "pygments_lexer": "ipython2",
   "version": "2.7.15"
  }
 },
 "nbformat": 4,
 "nbformat_minor": 2
}
