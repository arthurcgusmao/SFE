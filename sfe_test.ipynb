{
 "cells": [
  {
   "cell_type": "code",
   "execution_count": 2,
   "metadata": {},
   "outputs": [],
   "source": [
    "# --- start make file run from another dir ---\n",
    "#\n",
    "# Note: File should be run from XKE root dir. E.g.:\n",
    "#\n",
    "#       $ cd Projects/XKE\n",
    "#       $ python examples/emb_grid_search/grid_search_TransE_FB13.py\n",
    "#\n",
    "import os, sys\n",
    "file_ = os.path.join(os.path.abspath(sys.path[0])) # use this when inside a jupyter notebook\n",
    "# file_ = __file__ # use this when running from command line\n",
    "xke_root = os.path.abspath(os.path.join(file_, \"../\"))\n",
    "sys.path.insert(0, xke_root)\n",
    "# --- end make file run from another dir ---"
   ]
  },
  {
   "cell_type": "code",
   "execution_count": 3,
   "metadata": {},
   "outputs": [],
   "source": [
    "%load_ext autoreload\n",
    "%autoreload 2\n",
    "\n",
    "from sfe.sfe import Graph, SFE\n",
    "import pandas as pd\n",
    "import numpy as np\n",
    "import os, time"
   ]
  },
  {
   "cell_type": "code",
   "execution_count": 3,
   "metadata": {},
   "outputs": [],
   "source": [
    "def debug_print(list_of_els):\n",
    "    \"\"\"Prints a list of elements using their string method.\"\"\"\n",
    "    l = []\n",
    "    for n in list_of_els:\n",
    "        l.append(n.__str__())\n",
    "    print(l)\n",
    "    \n",
    "def print_node_seqs(node_seqs):\n",
    "    \"\"\"Prints a node sequences dict.\"\"\"\n",
    "    for node,seqs in node_seqs.iteritems():\n",
    "        print \"{}:\".format(node)\n",
    "        for seq in seqs: debug_print(seq)\n",
    "        print\n",
    "        \n",
    "def print_paths_per_length(paths):\n",
    "    \"\"\"Prints paths between a node pair separated by length.\"\"\"\n",
    "    lpaths = {}\n",
    "    for path in paths:\n",
    "        lpaths[len(path)] = lpaths.get(len(path), []) + [path]\n",
    "    for idx, ps in lpaths.iteritems():\n",
    "        print \"Paths of length: \", idx\n",
    "        for p in ps: print p\n",
    "        print\n",
    "    print \"\\nNumber of paths: {}\\n\\n\".format(len(paths))"
   ]
  },
  {
   "cell_type": "markdown",
   "metadata": {},
   "source": [
    "# FB13"
   ]
  },
  {
   "cell_type": "code",
   "execution_count": 4,
   "metadata": {},
   "outputs": [],
   "source": [
    "dataset_path = '../benchmarks/FB13'\n",
    "\n",
    "train2id = pd.read_csv(dataset_path + '/train2id.txt', sep=' ', skiprows=1, names=['head', 'tail', 'relation'])\n",
    "valid2id = pd.read_csv(dataset_path + '/valid2id.txt', sep=' ', skiprows=1, names=['head', 'tail', 'relation'])\n",
    "test2id = pd.read_csv(dataset_path + '/test2id.txt', sep=' ', skiprows=1, names=['head', 'tail', 'relation'])\n",
    "\n",
    "from tools import dataset_tools\n",
    "entity2id, id2entity     = dataset_tools.read_name2id_file(dataset_path + '/entity2id.txt')\n",
    "relation2id, id2relation = dataset_tools.read_name2id_file(dataset_path + '/relation2id.txt')\n",
    "\n",
    "train = pd.read_csv(dataset_path + '/train.txt', sep='\\t', skiprows=0, names=['head', 'relation', 'tail'])\n",
    "valid = pd.read_csv(dataset_path + '/valid.txt', sep='\\t', skiprows=0, names=['head', 'relation', 'tail', 'label'])\n",
    "test = pd.read_csv(dataset_path + '/test.txt', sep='\\t', skiprows=0, names=['head', 'relation', 'tail', 'label'])\n",
    "\n",
    "valid_pos = valid.loc[valid['label'] == 1]"
   ]
  },
  {
   "cell_type": "code",
   "execution_count": 5,
   "metadata": {},
   "outputs": [
    {
     "name": "stdout",
     "output_type": "stream",
     "text": [
      "Elapsed time to build G: 206.842651844\n"
     ]
    }
   ],
   "source": [
    "start_time = time.time()\n",
    "g = Graph()\n",
    "g.partial_build_from_df(train)\n",
    "g.partial_build_from_df(valid_pos)\n",
    "print(\"Elapsed time to build G: {}\".format(time.time() - start_time))"
   ]
  },
  {
   "cell_type": "markdown",
   "metadata": {},
   "source": [
    "# Search Paths"
   ]
  },
  {
   "cell_type": "code",
   "execution_count": 30,
   "metadata": {},
   "outputs": [],
   "source": [
    "sfe = SFE(g, max_depth=2, max_fan_out=9999999)"
   ]
  },
  {
   "cell_type": "code",
   "execution_count": 37,
   "metadata": {},
   "outputs": [
    {
     "name": "stdout",
     "output_type": "stream",
     "text": [
      "CPU times: user 74.1 ms, sys: 16.1 ms, total: 90.2 ms\n",
      "Wall time: 72.8 ms\n"
     ]
    }
   ],
   "source": [
    "%%time\n",
    "paths = sfe.search_paths('antoine_barnave', 'guillotine')"
   ]
  },
  {
   "cell_type": "code",
   "execution_count": 32,
   "metadata": {
    "scrolled": true
   },
   "outputs": [
    {
     "data": {
      "text/plain": [
       "{('cause_of_death',),\n",
       " ('gender', '_gender', '_children', 'cause_of_death'),\n",
       " ('gender', '_gender', '_parents', 'cause_of_death'),\n",
       " ('gender', '_gender', '_spouse', 'cause_of_death'),\n",
       " ('gender', '_gender', 'cause_of_death'),\n",
       " ('gender', '_gender', 'children', 'cause_of_death'),\n",
       " ('gender', '_gender', 'parents', 'cause_of_death'),\n",
       " ('gender', '_gender', 'spouse', 'cause_of_death'),\n",
       " ('nationality', '_nationality', '_children', 'cause_of_death'),\n",
       " ('nationality', '_nationality', '_parents', 'cause_of_death'),\n",
       " ('nationality', '_nationality', '_spouse', 'cause_of_death'),\n",
       " ('nationality', '_nationality', 'cause_of_death'),\n",
       " ('nationality', '_nationality', 'children', 'cause_of_death'),\n",
       " ('nationality', '_nationality', 'parents', 'cause_of_death'),\n",
       " ('nationality', '_nationality', 'spouse', 'cause_of_death'),\n",
       " ('place_of_death', '_location', '_children', 'cause_of_death'),\n",
       " ('place_of_death', '_location', 'cause_of_death'),\n",
       " ('place_of_death', '_location', 'parents', 'cause_of_death'),\n",
       " ('place_of_death', '_place_of_birth', '_children', 'cause_of_death'),\n",
       " ('place_of_death', '_place_of_birth', '_parents', 'cause_of_death'),\n",
       " ('place_of_death', '_place_of_birth', '_spouse', 'cause_of_death'),\n",
       " ('place_of_death', '_place_of_birth', 'cause_of_death'),\n",
       " ('place_of_death', '_place_of_birth', 'children', 'cause_of_death'),\n",
       " ('place_of_death', '_place_of_birth', 'parents', 'cause_of_death'),\n",
       " ('place_of_death', '_place_of_birth', 'spouse', 'cause_of_death'),\n",
       " ('place_of_death', '_place_of_death', 'cause_of_death')}"
      ]
     },
     "execution_count": 32,
     "metadata": {},
     "output_type": "execute_result"
    }
   ],
   "source": [
    "paths"
   ]
  },
  {
   "cell_type": "code",
   "execution_count": 33,
   "metadata": {
    "scrolled": true
   },
   "outputs": [
    {
     "name": "stdout",
     "output_type": "stream",
     "text": [
      "Paths of length:  1\n",
      "('cause_of_death',)\n",
      "\n",
      "Paths of length:  3\n",
      "('place_of_death', '_place_of_death', 'cause_of_death')\n",
      "('place_of_death', '_location', 'cause_of_death')\n",
      "('gender', '_gender', 'cause_of_death')\n",
      "('nationality', '_nationality', 'cause_of_death')\n",
      "('place_of_death', '_place_of_birth', 'cause_of_death')\n",
      "\n",
      "Paths of length:  4\n",
      "('nationality', '_nationality', 'spouse', 'cause_of_death')\n",
      "('place_of_death', '_location', '_children', 'cause_of_death')\n",
      "('gender', '_gender', '_children', 'cause_of_death')\n",
      "('nationality', '_nationality', 'parents', 'cause_of_death')\n",
      "('place_of_death', '_place_of_birth', '_parents', 'cause_of_death')\n",
      "('nationality', '_nationality', '_spouse', 'cause_of_death')\n",
      "('gender', '_gender', '_parents', 'cause_of_death')\n",
      "('place_of_death', '_place_of_birth', 'parents', 'cause_of_death')\n",
      "('nationality', '_nationality', '_parents', 'cause_of_death')\n",
      "('gender', '_gender', 'parents', 'cause_of_death')\n",
      "('gender', '_gender', 'children', 'cause_of_death')\n",
      "('gender', '_gender', '_spouse', 'cause_of_death')\n",
      "('nationality', '_nationality', 'children', 'cause_of_death')\n",
      "('gender', '_gender', 'spouse', 'cause_of_death')\n",
      "('place_of_death', '_place_of_birth', 'children', 'cause_of_death')\n",
      "('nationality', '_nationality', '_children', 'cause_of_death')\n",
      "('place_of_death', '_location', 'parents', 'cause_of_death')\n",
      "('place_of_death', '_place_of_birth', '_children', 'cause_of_death')\n",
      "('place_of_death', '_place_of_birth', 'spouse', 'cause_of_death')\n",
      "('place_of_death', '_place_of_birth', '_spouse', 'cause_of_death')\n",
      "\n",
      "\n",
      "Number of paths: 26\n",
      "\n",
      "\n"
     ]
    }
   ],
   "source": [
    "lpaths = {}\n",
    "for path in paths:\n",
    "    lpaths[len(path)] = lpaths.get(len(path), []) + [path]\n",
    "for idx, ps in lpaths.iteritems():\n",
    "    print \"Paths of length: \", idx\n",
    "    for p in ps: print p\n",
    "    print\n",
    "print \"\\nNumber of paths: {}\\n\\n\".format(len(paths))"
   ]
  },
  {
   "cell_type": "markdown",
   "metadata": {},
   "source": [
    "# Extract Features"
   ]
  },
  {
   "cell_type": "code",
   "execution_count": 38,
   "metadata": {},
   "outputs": [
    {
     "data": {
      "text/html": [
       "<div>\n",
       "<style scoped>\n",
       "    .dataframe tbody tr th:only-of-type {\n",
       "        vertical-align: middle;\n",
       "    }\n",
       "\n",
       "    .dataframe tbody tr th {\n",
       "        vertical-align: top;\n",
       "    }\n",
       "\n",
       "    .dataframe thead th {\n",
       "        text-align: right;\n",
       "    }\n",
       "</style>\n",
       "<table border=\"1\" class=\"dataframe\">\n",
       "  <thead>\n",
       "    <tr style=\"text-align: right;\">\n",
       "      <th></th>\n",
       "      <th>head</th>\n",
       "      <th>relation</th>\n",
       "      <th>tail</th>\n",
       "    </tr>\n",
       "  </thead>\n",
       "  <tbody>\n",
       "    <tr>\n",
       "      <th>1230</th>\n",
       "      <td>beals_wright</td>\n",
       "      <td>gender</td>\n",
       "      <td>male</td>\n",
       "    </tr>\n",
       "    <tr>\n",
       "      <th>1231</th>\n",
       "      <td>warring_kennedy</td>\n",
       "      <td>gender</td>\n",
       "      <td>male</td>\n",
       "    </tr>\n",
       "    <tr>\n",
       "      <th>1232</th>\n",
       "      <td>jackson_c_pharris</td>\n",
       "      <td>nationality</td>\n",
       "      <td>united_states</td>\n",
       "    </tr>\n",
       "    <tr>\n",
       "      <th>1233</th>\n",
       "      <td>halford_john_mackinder</td>\n",
       "      <td>institution</td>\n",
       "      <td>christ_church_oxford</td>\n",
       "    </tr>\n",
       "    <tr>\n",
       "      <th>1234</th>\n",
       "      <td>tony_snow</td>\n",
       "      <td>cause_of_death</td>\n",
       "      <td>cancer</td>\n",
       "    </tr>\n",
       "    <tr>\n",
       "      <th>1235</th>\n",
       "      <td>ernst_lecher</td>\n",
       "      <td>gender</td>\n",
       "      <td>male</td>\n",
       "    </tr>\n",
       "    <tr>\n",
       "      <th>1236</th>\n",
       "      <td>antoine_barnave</td>\n",
       "      <td>cause_of_death</td>\n",
       "      <td>guillotine</td>\n",
       "    </tr>\n",
       "    <tr>\n",
       "      <th>1237</th>\n",
       "      <td>jack_warden</td>\n",
       "      <td>place_of_birth</td>\n",
       "      <td>newark</td>\n",
       "    </tr>\n",
       "    <tr>\n",
       "      <th>1238</th>\n",
       "      <td>charles_jackson_paine</td>\n",
       "      <td>nationality</td>\n",
       "      <td>united_states</td>\n",
       "    </tr>\n",
       "    <tr>\n",
       "      <th>1239</th>\n",
       "      <td>big_moe</td>\n",
       "      <td>ethnicity</td>\n",
       "      <td>african_american</td>\n",
       "    </tr>\n",
       "    <tr>\n",
       "      <th>1240</th>\n",
       "      <td>bhagat_singh</td>\n",
       "      <td>place_of_death</td>\n",
       "      <td>lahore</td>\n",
       "    </tr>\n",
       "  </tbody>\n",
       "</table>\n",
       "</div>"
      ],
      "text/plain": [
       "                        head        relation                  tail\n",
       "1230            beals_wright          gender                  male\n",
       "1231         warring_kennedy          gender                  male\n",
       "1232       jackson_c_pharris     nationality         united_states\n",
       "1233  halford_john_mackinder     institution  christ_church_oxford\n",
       "1234               tony_snow  cause_of_death                cancer\n",
       "1235            ernst_lecher          gender                  male\n",
       "1236         antoine_barnave  cause_of_death            guillotine\n",
       "1237             jack_warden  place_of_birth                newark\n",
       "1238   charles_jackson_paine     nationality         united_states\n",
       "1239                 big_moe       ethnicity      african_american\n",
       "1240            bhagat_singh  place_of_death                lahore"
      ]
     },
     "execution_count": 38,
     "metadata": {},
     "output_type": "execute_result"
    }
   ],
   "source": [
    "df = train[1230:1241]\n",
    "df"
   ]
  },
  {
   "cell_type": "code",
   "execution_count": 39,
   "metadata": {},
   "outputs": [],
   "source": [
    "res = sfe.extract_features(df)"
   ]
  },
  {
   "cell_type": "code",
   "execution_count": 40,
   "metadata": {},
   "outputs": [
    {
     "name": "stdout",
     "output_type": "stream",
     "text": [
      "CPU times: user 9.35 s, sys: 385 ms, total: 9.74 s\n",
      "Wall time: 9.65 s\n"
     ]
    }
   ],
   "source": [
    "%%time\n",
    "res = next(res)"
   ]
  },
  {
   "cell_type": "code",
   "execution_count": 41,
   "metadata": {},
   "outputs": [
    {
     "data": {
      "text/plain": [
       "{'cause_of_death': [{'entity_pair': ('antoine_barnave', 'guillotine'),\n",
       "   'features': {('gender', '_gender', '_children', 'cause_of_death'),\n",
       "    ('gender', '_gender', '_parents', 'cause_of_death'),\n",
       "    ('gender', '_gender', '_spouse', 'cause_of_death'),\n",
       "    ('gender', '_gender', 'cause_of_death'),\n",
       "    ('gender', '_gender', 'children', 'cause_of_death'),\n",
       "    ('gender', '_gender', 'parents', 'cause_of_death'),\n",
       "    ('gender', '_gender', 'spouse', 'cause_of_death'),\n",
       "    ('nationality', '_nationality', '_children', 'cause_of_death'),\n",
       "    ('nationality', '_nationality', '_parents', 'cause_of_death'),\n",
       "    ('nationality', '_nationality', '_spouse', 'cause_of_death'),\n",
       "    ('nationality', '_nationality', 'cause_of_death'),\n",
       "    ('nationality', '_nationality', 'children', 'cause_of_death'),\n",
       "    ('nationality', '_nationality', 'parents', 'cause_of_death'),\n",
       "    ('nationality', '_nationality', 'spouse', 'cause_of_death'),\n",
       "    ('place_of_death', '_location', '_children', 'cause_of_death'),\n",
       "    ('place_of_death', '_location', 'cause_of_death'),\n",
       "    ('place_of_death', '_location', 'parents', 'cause_of_death'),\n",
       "    ('place_of_death', '_place_of_birth', '_children', 'cause_of_death'),\n",
       "    ('place_of_death', '_place_of_birth', '_parents', 'cause_of_death'),\n",
       "    ('place_of_death', '_place_of_birth', '_spouse', 'cause_of_death'),\n",
       "    ('place_of_death', '_place_of_birth', 'cause_of_death'),\n",
       "    ('place_of_death', '_place_of_birth', 'children', 'cause_of_death'),\n",
       "    ('place_of_death', '_place_of_birth', 'parents', 'cause_of_death'),\n",
       "    ('place_of_death', '_place_of_birth', 'spouse', 'cause_of_death'),\n",
       "    ('place_of_death', '_place_of_death', 'cause_of_death')},\n",
       "   'label': None},\n",
       "  {'entity_pair': ('tony_snow', 'cancer'),\n",
       "   'features': {('gender', '_gender', '_children', 'cause_of_death'),\n",
       "    ('gender', '_gender', '_parents', 'cause_of_death'),\n",
       "    ('gender', '_gender', '_spouse', 'cause_of_death'),\n",
       "    ('gender', '_gender', 'cause_of_death'),\n",
       "    ('gender', '_gender', 'children', 'cause_of_death'),\n",
       "    ('gender', '_gender', 'parents', 'cause_of_death'),\n",
       "    ('gender', '_gender', 'spouse', 'cause_of_death'),\n",
       "    ('location', '_location', '_parents', 'cause_of_death'),\n",
       "    ('location', '_location', 'cause_of_death'),\n",
       "    ('location', '_location', 'children', 'cause_of_death'),\n",
       "    ('location', '_place_of_birth', '_parents', 'cause_of_death'),\n",
       "    ('location', '_place_of_birth', 'cause_of_death'),\n",
       "    ('location', '_place_of_birth', 'children', 'cause_of_death'),\n",
       "    ('nationality', '_location', 'cause_of_death'),\n",
       "    ('nationality', '_nationality', '_children', 'cause_of_death'),\n",
       "    ('nationality', '_nationality', '_parents', 'cause_of_death'),\n",
       "    ('nationality', '_nationality', '_spouse', 'cause_of_death'),\n",
       "    ('nationality', '_nationality', 'cause_of_death'),\n",
       "    ('nationality', '_nationality', 'children', 'cause_of_death'),\n",
       "    ('nationality', '_nationality', 'parents', 'cause_of_death'),\n",
       "    ('nationality', '_nationality', 'spouse', 'cause_of_death'),\n",
       "    ('nationality', '_place_of_birth', '_spouse', 'cause_of_death'),\n",
       "    ('nationality', '_place_of_birth', 'cause_of_death'),\n",
       "    ('nationality', '_place_of_birth', 'spouse', 'cause_of_death'),\n",
       "    ('nationality', '_place_of_death', 'cause_of_death'),\n",
       "    ('profession', '_profession', '_children', 'cause_of_death'),\n",
       "    ('profession', '_profession', 'cause_of_death'),\n",
       "    ('profession', '_profession', 'parents', 'cause_of_death'),\n",
       "    ('religion', '_religion', '_children', 'cause_of_death'),\n",
       "    ('religion', '_religion', '_parents', 'cause_of_death'),\n",
       "    ('religion', '_religion', '_spouse', 'cause_of_death'),\n",
       "    ('religion', '_religion', 'cause_of_death'),\n",
       "    ('religion', '_religion', 'children', 'cause_of_death'),\n",
       "    ('religion', '_religion', 'parents', 'cause_of_death'),\n",
       "    ('religion', '_religion', 'spouse', 'cause_of_death')},\n",
       "   'label': None}],\n",
       " 'ethnicity': [{'entity_pair': ('big_moe', 'african_american'),\n",
       "   'features': {('gender', '_gender', '_children', 'ethnicity'),\n",
       "    ('gender', '_gender', '_parents', 'ethnicity'),\n",
       "    ('gender', '_gender', '_spouse', 'ethnicity'),\n",
       "    ('gender', '_gender', 'children', 'ethnicity'),\n",
       "    ('gender', '_gender', 'ethnicity'),\n",
       "    ('gender', '_gender', 'nationality'),\n",
       "    ('gender', '_gender', 'parents', 'ethnicity'),\n",
       "    ('gender', '_gender', 'spouse', 'ethnicity'),\n",
       "    ('nationality', '_location', 'ethnicity'),\n",
       "    ('nationality', '_nationality', '_children', 'ethnicity'),\n",
       "    ('nationality', '_nationality', '_parents', 'ethnicity'),\n",
       "    ('nationality', '_nationality', '_spouse', 'ethnicity'),\n",
       "    ('nationality', '_nationality', 'children', 'ethnicity'),\n",
       "    ('nationality', '_nationality', 'ethnicity'),\n",
       "    ('nationality', '_nationality', 'nationality'),\n",
       "    ('nationality', '_nationality', 'parents', 'ethnicity'),\n",
       "    ('nationality', '_nationality', 'spouse', 'ethnicity'),\n",
       "    ('nationality', '_place_of_birth', 'ethnicity'),\n",
       "    ('nationality', '_place_of_death', 'ethnicity'),\n",
       "    ('place_of_birth', '_place_of_birth', 'ethnicity'),\n",
       "    ('place_of_birth', '_place_of_death', 'ethnicity'),\n",
       "    ('profession', '_profession', '_children', 'ethnicity'),\n",
       "    ('profession', '_profession', '_spouse', 'ethnicity'),\n",
       "    ('profession', '_profession', 'ethnicity'),\n",
       "    ('profession', '_profession', 'parents', 'ethnicity'),\n",
       "    ('profession', '_profession', 'spouse', 'ethnicity')},\n",
       "   'label': None}],\n",
       " 'gender': [{'entity_pair': ('beals_wright', 'male'),\n",
       "   'features': {('location', '_location', '_children', 'gender'),\n",
       "    ('location', '_location', '_parents', 'gender'),\n",
       "    ('location', '_location', '_spouse', 'gender'),\n",
       "    ('location', '_location', 'children', 'gender'),\n",
       "    ('location', '_location', 'gender'),\n",
       "    ('location', '_location', 'parents', 'gender'),\n",
       "    ('location', '_location', 'spouse', 'gender'),\n",
       "    ('location', '_place_of_birth', '_children', 'gender'),\n",
       "    ('location', '_place_of_birth', '_parents', 'gender'),\n",
       "    ('location', '_place_of_birth', '_spouse', 'gender'),\n",
       "    ('location', '_place_of_birth', 'children', 'gender'),\n",
       "    ('location', '_place_of_birth', 'gender'),\n",
       "    ('location', '_place_of_birth', 'parents', 'gender'),\n",
       "    ('location', '_place_of_birth', 'spouse', 'gender'),\n",
       "    ('location', '_place_of_death', '_children', 'gender'),\n",
       "    ('location', '_place_of_death', '_parents', 'gender'),\n",
       "    ('location', '_place_of_death', '_spouse', 'gender'),\n",
       "    ('location', '_place_of_death', 'children', 'gender'),\n",
       "    ('location', '_place_of_death', 'gender'),\n",
       "    ('location', '_place_of_death', 'parents', 'gender'),\n",
       "    ('location', '_place_of_death', 'spouse', 'gender'),\n",
       "    ('nationality', '_location', '_children', 'gender'),\n",
       "    ('nationality', '_location', 'gender'),\n",
       "    ('nationality', '_location', 'parents', 'gender'),\n",
       "    ('nationality', '_nationality', '_children', 'gender'),\n",
       "    ('nationality', '_nationality', '_parents', 'gender'),\n",
       "    ('nationality', '_nationality', '_spouse', 'gender'),\n",
       "    ('nationality', '_nationality', 'children', 'gender'),\n",
       "    ('nationality', '_nationality', 'gender'),\n",
       "    ('nationality', '_nationality', 'parents', 'gender'),\n",
       "    ('nationality', '_nationality', 'spouse', 'gender'),\n",
       "    ('nationality', '_place_of_birth', '_children', 'gender'),\n",
       "    ('nationality', '_place_of_birth', '_parents', 'gender'),\n",
       "    ('nationality', '_place_of_birth', '_spouse', 'gender'),\n",
       "    ('nationality', '_place_of_birth', 'children', 'gender'),\n",
       "    ('nationality', '_place_of_birth', 'gender'),\n",
       "    ('nationality', '_place_of_birth', 'parents', 'gender'),\n",
       "    ('nationality', '_place_of_birth', 'spouse', 'gender'),\n",
       "    ('nationality', '_place_of_death', '_children', 'gender'),\n",
       "    ('nationality', '_place_of_death', '_parents', 'gender'),\n",
       "    ('nationality', '_place_of_death', '_spouse', 'gender'),\n",
       "    ('nationality', '_place_of_death', 'children', 'gender'),\n",
       "    ('nationality', '_place_of_death', 'gender'),\n",
       "    ('nationality', '_place_of_death', 'parents', 'gender'),\n",
       "    ('nationality', '_place_of_death', 'spouse', 'gender'),\n",
       "    ('nationality', '_profession', 'gender'),\n",
       "    ('place_of_birth', '_location', '_children', 'gender'),\n",
       "    ('place_of_birth', '_location', '_parents', 'gender'),\n",
       "    ('place_of_birth', '_location', '_spouse', 'gender'),\n",
       "    ('place_of_birth', '_location', 'children', 'gender'),\n",
       "    ('place_of_birth', '_location', 'gender'),\n",
       "    ('place_of_birth', '_location', 'parents', 'gender'),\n",
       "    ('place_of_birth', '_location', 'spouse', 'gender'),\n",
       "    ('place_of_birth', '_place_of_birth', '_children', 'gender'),\n",
       "    ('place_of_birth', '_place_of_birth', '_parents', 'gender'),\n",
       "    ('place_of_birth', '_place_of_birth', '_spouse', 'gender'),\n",
       "    ('place_of_birth', '_place_of_birth', 'children', 'gender'),\n",
       "    ('place_of_birth', '_place_of_birth', 'gender'),\n",
       "    ('place_of_birth', '_place_of_birth', 'parents', 'gender'),\n",
       "    ('place_of_birth', '_place_of_birth', 'spouse', 'gender'),\n",
       "    ('place_of_birth', '_place_of_death', '_children', 'gender'),\n",
       "    ('place_of_birth', '_place_of_death', '_parents', 'gender'),\n",
       "    ('place_of_birth', '_place_of_death', '_spouse', 'gender'),\n",
       "    ('place_of_birth', '_place_of_death', 'children', 'gender'),\n",
       "    ('place_of_birth', '_place_of_death', 'gender'),\n",
       "    ('place_of_birth', '_place_of_death', 'parents', 'gender'),\n",
       "    ('place_of_birth', '_place_of_death', 'spouse', 'gender'),\n",
       "    ('place_of_death', '_location', 'gender'),\n",
       "    ('place_of_death', '_place_of_birth', 'gender'),\n",
       "    ('place_of_death', '_place_of_death', 'gender')},\n",
       "   'label': None},\n",
       "  {'entity_pair': ('ernst_lecher', 'male'),\n",
       "   'features': {('nationality', '_location', 'gender'),\n",
       "    ('nationality', '_nationality', '_children', 'gender'),\n",
       "    ('nationality', '_nationality', '_parents', 'gender'),\n",
       "    ('nationality', '_nationality', '_spouse', 'gender'),\n",
       "    ('nationality', '_nationality', 'children', 'gender'),\n",
       "    ('nationality', '_nationality', 'gender'),\n",
       "    ('nationality', '_nationality', 'parents', 'gender'),\n",
       "    ('nationality', '_nationality', 'spouse', 'gender'),\n",
       "    ('nationality', '_place_of_birth', 'gender'),\n",
       "    ('nationality', '_place_of_death', '_children', 'gender'),\n",
       "    ('nationality', '_place_of_death', '_parents', 'gender'),\n",
       "    ('nationality', '_place_of_death', '_spouse', 'gender'),\n",
       "    ('nationality', '_place_of_death', 'children', 'gender'),\n",
       "    ('nationality', '_place_of_death', 'gender'),\n",
       "    ('nationality', '_place_of_death', 'parents', 'gender'),\n",
       "    ('nationality', '_place_of_death', 'spouse', 'gender'),\n",
       "    ('place_of_birth', '_location', '_children', 'gender'),\n",
       "    ('place_of_birth', '_location', '_parents', 'gender'),\n",
       "    ('place_of_birth', '_location', '_spouse', 'gender'),\n",
       "    ('place_of_birth', '_location', 'children', 'gender'),\n",
       "    ('place_of_birth', '_location', 'gender'),\n",
       "    ('place_of_birth', '_location', 'parents', 'gender'),\n",
       "    ('place_of_birth', '_location', 'spouse', 'gender'),\n",
       "    ('place_of_birth', '_place_of_birth', '_children', 'gender'),\n",
       "    ('place_of_birth', '_place_of_birth', '_parents', 'gender'),\n",
       "    ('place_of_birth', '_place_of_birth', '_spouse', 'gender'),\n",
       "    ('place_of_birth', '_place_of_birth', 'children', 'gender'),\n",
       "    ('place_of_birth', '_place_of_birth', 'gender'),\n",
       "    ('place_of_birth', '_place_of_birth', 'parents', 'gender'),\n",
       "    ('place_of_birth', '_place_of_birth', 'spouse', 'gender'),\n",
       "    ('place_of_birth', '_place_of_death', '_children', 'gender'),\n",
       "    ('place_of_birth', '_place_of_death', '_parents', 'gender'),\n",
       "    ('place_of_birth', '_place_of_death', '_spouse', 'gender'),\n",
       "    ('place_of_birth', '_place_of_death', 'children', 'gender'),\n",
       "    ('place_of_birth', '_place_of_death', 'gender'),\n",
       "    ('place_of_birth', '_place_of_death', 'parents', 'gender'),\n",
       "    ('place_of_birth', '_place_of_death', 'spouse', 'gender'),\n",
       "    ('place_of_death', '_location', '_children', 'gender'),\n",
       "    ('place_of_death', '_location', '_parents', 'gender'),\n",
       "    ('place_of_death', '_location', '_spouse', 'gender'),\n",
       "    ('place_of_death', '_location', 'children', 'gender'),\n",
       "    ('place_of_death', '_location', 'gender'),\n",
       "    ('place_of_death', '_location', 'parents', 'gender'),\n",
       "    ('place_of_death', '_location', 'spouse', 'gender'),\n",
       "    ('place_of_death', '_place_of_birth', '_children', 'gender'),\n",
       "    ('place_of_death', '_place_of_birth', '_parents', 'gender'),\n",
       "    ('place_of_death', '_place_of_birth', '_spouse', 'gender'),\n",
       "    ('place_of_death', '_place_of_birth', 'children', 'gender'),\n",
       "    ('place_of_death', '_place_of_birth', 'gender'),\n",
       "    ('place_of_death', '_place_of_birth', 'parents', 'gender'),\n",
       "    ('place_of_death', '_place_of_birth', 'spouse', 'gender'),\n",
       "    ('place_of_death', '_place_of_death', '_children', 'gender'),\n",
       "    ('place_of_death', '_place_of_death', '_parents', 'gender'),\n",
       "    ('place_of_death', '_place_of_death', '_spouse', 'gender'),\n",
       "    ('place_of_death', '_place_of_death', 'children', 'gender'),\n",
       "    ('place_of_death', '_place_of_death', 'gender'),\n",
       "    ('place_of_death', '_place_of_death', 'parents', 'gender'),\n",
       "    ('place_of_death', '_place_of_death', 'spouse', 'gender')},\n",
       "   'label': None},\n",
       "  {'entity_pair': ('warring_kennedy', 'male'),\n",
       "   'features': {('nationality', '_location', 'gender'),\n",
       "    ('nationality', '_nationality', '_children', 'gender'),\n",
       "    ('nationality', '_nationality', '_parents', 'gender'),\n",
       "    ('nationality', '_nationality', '_spouse', 'gender'),\n",
       "    ('nationality', '_nationality', 'children', 'gender'),\n",
       "    ('nationality', '_nationality', 'gender'),\n",
       "    ('nationality', '_nationality', 'parents', 'gender'),\n",
       "    ('nationality', '_nationality', 'spouse', 'gender'),\n",
       "    ('nationality', '_place_of_birth', 'gender'),\n",
       "    ('nationality', '_place_of_birth', 'spouse', 'gender'),\n",
       "    ('nationality', '_place_of_death', 'gender'),\n",
       "    ('place_of_birth', '_location', '_parents', 'gender'),\n",
       "    ('place_of_birth', '_location', 'children', 'gender'),\n",
       "    ('place_of_birth', '_location', 'gender'),\n",
       "    ('place_of_birth', '_place_of_birth', '_parents', 'gender'),\n",
       "    ('place_of_birth', '_place_of_birth', 'children', 'gender'),\n",
       "    ('place_of_birth', '_place_of_birth', 'gender'),\n",
       "    ('place_of_birth', '_place_of_death', 'gender'),\n",
       "    ('place_of_death', '_location', '_children', 'gender'),\n",
       "    ('place_of_death', '_location', '_parents', 'gender'),\n",
       "    ('place_of_death', '_location', '_spouse', 'gender'),\n",
       "    ('place_of_death', '_location', 'children', 'gender'),\n",
       "    ('place_of_death', '_location', 'gender'),\n",
       "    ('place_of_death', '_location', 'parents', 'gender'),\n",
       "    ('place_of_death', '_location', 'spouse', 'gender'),\n",
       "    ('place_of_death', '_place_of_birth', '_children', 'gender'),\n",
       "    ('place_of_death', '_place_of_birth', '_parents', 'gender'),\n",
       "    ('place_of_death', '_place_of_birth', '_spouse', 'gender'),\n",
       "    ('place_of_death', '_place_of_birth', 'children', 'gender'),\n",
       "    ('place_of_death', '_place_of_birth', 'gender'),\n",
       "    ('place_of_death', '_place_of_birth', 'parents', 'gender'),\n",
       "    ('place_of_death', '_place_of_birth', 'spouse', 'gender'),\n",
       "    ('place_of_death', '_place_of_death', '_children', 'gender'),\n",
       "    ('place_of_death', '_place_of_death', '_parents', 'gender'),\n",
       "    ('place_of_death', '_place_of_death', '_spouse', 'gender'),\n",
       "    ('place_of_death', '_place_of_death', 'children', 'gender'),\n",
       "    ('place_of_death', '_place_of_death', 'gender'),\n",
       "    ('place_of_death', '_place_of_death', 'parents', 'gender'),\n",
       "    ('place_of_death', '_place_of_death', 'spouse', 'gender')},\n",
       "   'label': None}],\n",
       " 'institution': [{'entity_pair': ('halford_john_mackinder',\n",
       "    'christ_church_oxford'),\n",
       "   'features': {('gender', '_gender', '_children', 'institution'),\n",
       "    ('gender', '_gender', '_parents', 'institution'),\n",
       "    ('gender', '_gender', 'children', 'institution'),\n",
       "    ('gender', '_gender', 'institution'),\n",
       "    ('gender', '_gender', 'parents', 'institution'),\n",
       "    ('nationality', '_nationality', '_children', 'institution'),\n",
       "    ('nationality', '_nationality', '_parents', 'institution'),\n",
       "    ('nationality', '_nationality', '_spouse', 'institution'),\n",
       "    ('nationality', '_nationality', 'children', 'institution'),\n",
       "    ('nationality', '_nationality', 'institution'),\n",
       "    ('nationality', '_nationality', 'parents', 'institution'),\n",
       "    ('nationality', '_nationality', 'spouse', 'institution'),\n",
       "    ('profession', '_profession', '_children', 'institution'),\n",
       "    ('profession', '_profession', 'institution'),\n",
       "    ('profession', '_profession', 'parents', 'institution')},\n",
       "   'label': None}],\n",
       " 'nationality': [{'entity_pair': ('charles_jackson_paine', 'united_states'),\n",
       "   'features': {('gender', '_gender', '_children', 'nationality'),\n",
       "    ('gender', '_gender', '_children', 'place_of_birth'),\n",
       "    ('gender', '_gender', '_children', 'place_of_death'),\n",
       "    ('gender', '_gender', '_parents', 'location'),\n",
       "    ('gender', '_gender', '_parents', 'nationality'),\n",
       "    ('gender', '_gender', '_parents', 'place_of_birth'),\n",
       "    ('gender', '_gender', '_parents', 'place_of_death'),\n",
       "    ('gender', '_gender', '_spouse', 'nationality'),\n",
       "    ('gender', '_gender', '_spouse', 'place_of_birth'),\n",
       "    ('gender', '_gender', '_spouse', 'place_of_death'),\n",
       "    ('gender', '_gender', 'children', 'location'),\n",
       "    ('gender', '_gender', 'children', 'nationality'),\n",
       "    ('gender', '_gender', 'children', 'place_of_birth'),\n",
       "    ('gender', '_gender', 'children', 'place_of_death'),\n",
       "    ('gender', '_gender', 'location'),\n",
       "    ('gender', '_gender', 'nationality'),\n",
       "    ('gender', '_gender', 'parents', 'nationality'),\n",
       "    ('gender', '_gender', 'parents', 'place_of_birth'),\n",
       "    ('gender', '_gender', 'parents', 'place_of_death'),\n",
       "    ('gender', '_gender', 'place_of_birth'),\n",
       "    ('gender', '_gender', 'place_of_death'),\n",
       "    ('gender', '_gender', 'profession'),\n",
       "    ('gender', '_gender', 'spouse', 'nationality'),\n",
       "    ('gender', '_gender', 'spouse', 'place_of_birth'),\n",
       "    ('gender', '_gender', 'spouse', 'place_of_death'),\n",
       "    ('location', '_location', '_children', 'nationality'),\n",
       "    ('location', '_location', '_parents', 'nationality'),\n",
       "    ('location', '_location', '_spouse', 'nationality'),\n",
       "    ('location', '_location', 'children', 'nationality'),\n",
       "    ('location', '_location', 'nationality'),\n",
       "    ('location', '_location', 'parents', 'nationality'),\n",
       "    ('location', '_location', 'place_of_birth'),\n",
       "    ('location', '_location', 'place_of_death'),\n",
       "    ('location', '_location', 'profession'),\n",
       "    ('location', '_location', 'spouse', 'nationality'),\n",
       "    ('location', '_place_of_birth', '_children', 'nationality'),\n",
       "    ('location', '_place_of_birth', '_parents', 'nationality'),\n",
       "    ('location', '_place_of_birth', '_spouse', 'nationality'),\n",
       "    ('location', '_place_of_birth', 'children', 'nationality'),\n",
       "    ('location', '_place_of_birth', 'location'),\n",
       "    ('location', '_place_of_birth', 'nationality'),\n",
       "    ('location', '_place_of_birth', 'parents', 'nationality'),\n",
       "    ('location', '_place_of_birth', 'place_of_death'),\n",
       "    ('location', '_place_of_birth', 'spouse', 'nationality'),\n",
       "    ('location', '_place_of_death', '_children', 'nationality'),\n",
       "    ('location', '_place_of_death', '_parents', 'nationality'),\n",
       "    ('location', '_place_of_death', '_spouse', 'nationality'),\n",
       "    ('location', '_place_of_death', 'children', 'nationality'),\n",
       "    ('location', '_place_of_death', 'location'),\n",
       "    ('location', '_place_of_death', 'nationality'),\n",
       "    ('location', '_place_of_death', 'parents', 'nationality'),\n",
       "    ('location', '_place_of_death', 'spouse', 'nationality'),\n",
       "    ('place_of_birth', '_location', '_children', 'nationality'),\n",
       "    ('place_of_birth', '_location', '_parents', 'nationality'),\n",
       "    ('place_of_birth', '_location', '_spouse', 'nationality'),\n",
       "    ('place_of_birth', '_location', 'children', 'nationality'),\n",
       "    ('place_of_birth', '_location', 'nationality'),\n",
       "    ('place_of_birth', '_location', 'parents', 'nationality'),\n",
       "    ('place_of_birth', '_location', 'place_of_birth'),\n",
       "    ('place_of_birth', '_location', 'place_of_death'),\n",
       "    ('place_of_birth', '_location', 'profession'),\n",
       "    ('place_of_birth', '_location', 'spouse', 'nationality'),\n",
       "    ('place_of_birth', '_place_of_birth', '_children', 'nationality'),\n",
       "    ('place_of_birth', '_place_of_birth', '_parents', 'nationality'),\n",
       "    ('place_of_birth', '_place_of_birth', '_spouse', 'nationality'),\n",
       "    ('place_of_birth', '_place_of_birth', 'children', 'nationality'),\n",
       "    ('place_of_birth', '_place_of_birth', 'location'),\n",
       "    ('place_of_birth', '_place_of_birth', 'nationality'),\n",
       "    ('place_of_birth', '_place_of_birth', 'parents', 'nationality'),\n",
       "    ('place_of_birth', '_place_of_birth', 'place_of_death'),\n",
       "    ('place_of_birth', '_place_of_birth', 'spouse', 'nationality'),\n",
       "    ('place_of_birth', '_place_of_death', '_children', 'nationality'),\n",
       "    ('place_of_birth', '_place_of_death', '_parents', 'nationality'),\n",
       "    ('place_of_birth', '_place_of_death', '_spouse', 'nationality'),\n",
       "    ('place_of_birth', '_place_of_death', 'children', 'nationality'),\n",
       "    ('place_of_birth', '_place_of_death', 'location'),\n",
       "    ('place_of_birth', '_place_of_death', 'nationality'),\n",
       "    ('place_of_birth', '_place_of_death', 'parents', 'nationality'),\n",
       "    ('place_of_birth', '_place_of_death', 'spouse', 'nationality'),\n",
       "    ('place_of_death', '_place_of_death', 'nationality')},\n",
       "   'label': None},\n",
       "  {'entity_pair': ('jackson_c_pharris', 'united_states'),\n",
       "   'features': {('gender', '_gender', '_children', 'nationality'),\n",
       "    ('gender', '_gender', '_children', 'place_of_birth'),\n",
       "    ('gender', '_gender', '_children', 'place_of_death'),\n",
       "    ('gender', '_gender', '_parents', 'location'),\n",
       "    ('gender', '_gender', '_parents', 'nationality'),\n",
       "    ('gender', '_gender', '_parents', 'place_of_birth'),\n",
       "    ('gender', '_gender', '_parents', 'place_of_death'),\n",
       "    ('gender', '_gender', '_spouse', 'nationality'),\n",
       "    ('gender', '_gender', '_spouse', 'place_of_birth'),\n",
       "    ('gender', '_gender', '_spouse', 'place_of_death'),\n",
       "    ('gender', '_gender', 'children', 'location'),\n",
       "    ('gender', '_gender', 'children', 'nationality'),\n",
       "    ('gender', '_gender', 'children', 'place_of_birth'),\n",
       "    ('gender', '_gender', 'children', 'place_of_death'),\n",
       "    ('gender', '_gender', 'location'),\n",
       "    ('gender', '_gender', 'nationality'),\n",
       "    ('gender', '_gender', 'parents', 'nationality'),\n",
       "    ('gender', '_gender', 'parents', 'place_of_birth'),\n",
       "    ('gender', '_gender', 'parents', 'place_of_death'),\n",
       "    ('gender', '_gender', 'place_of_birth'),\n",
       "    ('gender', '_gender', 'place_of_death'),\n",
       "    ('gender', '_gender', 'profession'),\n",
       "    ('gender', '_gender', 'spouse', 'nationality'),\n",
       "    ('gender', '_gender', 'spouse', 'place_of_birth'),\n",
       "    ('gender', '_gender', 'spouse', 'place_of_death'),\n",
       "    ('place_of_birth', '_location', 'nationality'),\n",
       "    ('place_of_birth', '_place_of_birth', 'nationality'),\n",
       "    ('place_of_birth', '_place_of_death', 'nationality')},\n",
       "   'label': None}],\n",
       " 'place_of_birth': [{'entity_pair': ('jack_warden', 'newark'),\n",
       "   'features': {('gender', '_gender', '_children', 'location'),\n",
       "    ('gender', '_gender', '_children', 'place_of_death'),\n",
       "    ('gender', '_gender', '_parents', 'location'),\n",
       "    ('gender', '_gender', '_parents', 'place_of_birth'),\n",
       "    ('gender', '_gender', '_parents', 'place_of_death'),\n",
       "    ('gender', '_gender', '_spouse', 'place_of_death'),\n",
       "    ('gender', '_gender', 'children', 'location'),\n",
       "    ('gender', '_gender', 'children', 'place_of_birth'),\n",
       "    ('gender', '_gender', 'children', 'place_of_death'),\n",
       "    ('gender', '_gender', 'location'),\n",
       "    ('gender', '_gender', 'parents', 'location'),\n",
       "    ('gender', '_gender', 'parents', 'place_of_death'),\n",
       "    ('gender', '_gender', 'place_of_birth'),\n",
       "    ('gender', '_gender', 'place_of_death'),\n",
       "    ('gender', '_gender', 'spouse', 'place_of_death'),\n",
       "    ('location',),\n",
       "    ('nationality', '_location', 'place_of_death'),\n",
       "    ('nationality', '_nationality', '_children', 'location'),\n",
       "    ('nationality', '_nationality', '_children', 'place_of_death'),\n",
       "    ('nationality', '_nationality', '_parents', 'location'),\n",
       "    ('nationality', '_nationality', '_parents', 'place_of_birth'),\n",
       "    ('nationality', '_nationality', '_parents', 'place_of_death'),\n",
       "    ('nationality', '_nationality', '_spouse', 'place_of_death'),\n",
       "    ('nationality', '_nationality', 'children', 'location'),\n",
       "    ('nationality', '_nationality', 'children', 'place_of_birth'),\n",
       "    ('nationality', '_nationality', 'children', 'place_of_death'),\n",
       "    ('nationality', '_nationality', 'location'),\n",
       "    ('nationality', '_nationality', 'parents', 'location'),\n",
       "    ('nationality', '_nationality', 'parents', 'place_of_death'),\n",
       "    ('nationality', '_nationality', 'place_of_birth'),\n",
       "    ('nationality', '_nationality', 'place_of_death'),\n",
       "    ('nationality', '_nationality', 'spouse', 'place_of_death'),\n",
       "    ('place_of_death', '_location', '_children', 'location'),\n",
       "    ('place_of_death', '_location', '_children', 'place_of_birth'),\n",
       "    ('place_of_death', '_location', 'location'),\n",
       "    ('place_of_death', '_location', 'parents', 'location'),\n",
       "    ('place_of_death', '_location', 'parents', 'place_of_birth'),\n",
       "    ('place_of_death', '_location', 'place_of_birth'),\n",
       "    ('place_of_death', '_location', 'place_of_death'),\n",
       "    ('place_of_death', '_place_of_birth', 'location'),\n",
       "    ('place_of_death', '_place_of_birth', 'place_of_death'),\n",
       "    ('place_of_death', '_place_of_death', '_parents', 'place_of_birth'),\n",
       "    ('place_of_death', '_place_of_death', 'children', 'place_of_birth'),\n",
       "    ('place_of_death', '_place_of_death', 'location'),\n",
       "    ('place_of_death', '_place_of_death', 'place_of_birth'),\n",
       "    ('profession', '_profession', 'place_of_birth')},\n",
       "   'label': None}],\n",
       " 'place_of_death': [{'entity_pair': ('bhagat_singh', 'lahore'),\n",
       "   'features': {('cause_of_death', '_cause_of_death', 'place_of_death'),\n",
       "    ('gender', '_gender', '_children', 'location'),\n",
       "    ('gender', '_gender', '_children', 'place_of_birth'),\n",
       "    ('gender', '_gender', '_parents', 'location'),\n",
       "    ('gender', '_gender', '_parents', 'place_of_birth'),\n",
       "    ('gender', '_gender', '_parents', 'place_of_death'),\n",
       "    ('gender', '_gender', '_spouse', 'place_of_death'),\n",
       "    ('gender', '_gender', 'children', 'location'),\n",
       "    ('gender', '_gender', 'children', 'place_of_birth'),\n",
       "    ('gender', '_gender', 'children', 'place_of_death'),\n",
       "    ('gender', '_gender', 'location'),\n",
       "    ('gender', '_gender', 'parents', 'location'),\n",
       "    ('gender', '_gender', 'parents', 'place_of_birth'),\n",
       "    ('gender', '_gender', 'place_of_birth'),\n",
       "    ('gender', '_gender', 'place_of_death'),\n",
       "    ('gender', '_gender', 'spouse', 'place_of_death'),\n",
       "    ('nationality', '_nationality', '_children', 'location'),\n",
       "    ('nationality', '_nationality', '_children', 'place_of_birth'),\n",
       "    ('nationality', '_nationality', '_parents', 'place_of_death'),\n",
       "    ('nationality', '_nationality', 'children', 'place_of_death'),\n",
       "    ('nationality', '_nationality', 'location'),\n",
       "    ('nationality', '_nationality', 'parents', 'location'),\n",
       "    ('nationality', '_nationality', 'parents', 'place_of_birth'),\n",
       "    ('nationality', '_nationality', 'place_of_birth'),\n",
       "    ('nationality', '_nationality', 'place_of_death'),\n",
       "    ('profession', '_profession', 'location'),\n",
       "    ('profession', '_profession', 'place_of_birth'),\n",
       "    ('profession', '_profession', 'place_of_death'),\n",
       "    ('religion', '_religion', '_parents', 'place_of_death'),\n",
       "    ('religion', '_religion', 'children', 'place_of_death'),\n",
       "    ('religion', '_religion', 'location'),\n",
       "    ('religion', '_religion', 'place_of_birth'),\n",
       "    ('religion', '_religion', 'place_of_death')},\n",
       "   'label': None}]}"
      ]
     },
     "execution_count": 41,
     "metadata": {},
     "output_type": "execute_result"
    }
   ],
   "source": [
    "res"
   ]
  },
  {
   "cell_type": "code",
   "execution_count": 77,
   "metadata": {},
   "outputs": [],
   "source": [
    "def stringify_features(res):\n",
    "    for rel in res: # for each relation\n",
    "        for inst in res[rel]: # for each instance\n",
    "            if type(inst['features']) == str:\n",
    "                continue\n",
    "            stringified_paths = ['-' + '-'.join(path) + '-,1.0' for path in inst['features']]\n",
    "            stringified_feats = ' -#- '.join(stringified_paths)\n",
    "            inst['features'] = stringified_feats\n",
    "            \n",
    "def stringify_ent_pair(res):\n",
    "    for rel in res: # for each relation\n",
    "        for inst in res[rel]: # for each instance\n",
    "            if type(inst['entity_pair']) == str:\n",
    "                continue\n",
    "            inst['entity_pair'] = ','.join(inst['entity_pair'])\n",
    "            \n",
    "stringify_features(res)\n",
    "stringify_ent_pair(res)"
   ]
  },
  {
   "cell_type": "code",
   "execution_count": 89,
   "metadata": {},
   "outputs": [],
   "source": [
    "inst = res['cause_of_death'][0]"
   ]
  },
  {
   "cell_type": "code",
   "execution_count": 93,
   "metadata": {},
   "outputs": [],
   "source": [
    "inst['label'] = '?'"
   ]
  },
  {
   "cell_type": "code",
   "execution_count": 98,
   "metadata": {},
   "outputs": [],
   "source": [
    "with open('./test/rel/train.tsv', 'a') as f:\n",
    "    f.write('{}\\t{}\\t{}\\n'.format(inst['entity_pair'], inst['label'], inst['features']))"
   ]
  },
  {
   "cell_type": "code",
   "execution_count": 21,
   "metadata": {},
   "outputs": [
    {
     "data": {
      "text/plain": [
       "head        halford_john_mackinder\n",
       "relation               institution\n",
       "tail          christ_church_oxford\n",
       "Name: 1233, dtype: object"
      ]
     },
     "execution_count": 21,
     "metadata": {},
     "output_type": "execute_result"
    }
   ],
   "source": [
    "df.loc[1233]"
   ]
  },
  {
   "cell_type": "code",
   "execution_count": 38,
   "metadata": {},
   "outputs": [
    {
     "name": "stdout",
     "output_type": "stream",
     "text": [
      "('antoine_barnave', 'cause_of_death', 'guillotine', set([('nationality', '_nationality', 'spouse', 'cause_of_death'), ('place_of_death', '_location', '_children', 'cause_of_death'), ('gender', '_gender', '_children', 'cause_of_death'), ('place_of_death', '_place_of_birth', '_parents', 'cause_of_death'), ('gender', '_gender', '_parents', 'cause_of_death'), ('place_of_death', '_place_of_birth', 'parents', 'cause_of_death'), ('nationality', '_nationality', '_parents', 'cause_of_death'), ('place_of_death', '_place_of_death', 'cause_of_death'), ('gender', '_gender', 'parents', 'cause_of_death'), ('gender', '_gender', '_spouse', 'cause_of_death'), ('gender', '_gender', 'spouse', 'cause_of_death'), ('place_of_death', '_place_of_birth', 'children', 'cause_of_death'), ('nationality', '_nationality', '_children', 'cause_of_death'), ('gender', '_gender', 'cause_of_death'), ('place_of_death', '_location', 'parents', 'cause_of_death'), ('nationality', '_nationality', 'parents', 'cause_of_death'), ('nationality', '_nationality', 'cause_of_death'), ('place_of_death', '_place_of_birth', 'spouse', 'cause_of_death'), ('place_of_death', '_place_of_birth', '_children', 'cause_of_death'), ('nationality', '_nationality', '_spouse', 'cause_of_death'), ('gender', '_gender', 'children', 'cause_of_death'), ('place_of_death', '_location', 'cause_of_death'), ('nationality', '_nationality', 'children', 'cause_of_death'), ('place_of_death', '_place_of_birth', 'cause_of_death'), ('place_of_death', '_place_of_birth', '_spouse', 'cause_of_death')]))\n",
      "\n",
      "Number of features: 25\n",
      "\n",
      "\n",
      "('beals_wright', 'gender', 'male', set([('location', '_place_of_birth', 'parents', 'gender'), ('location', '_location', 'spouse', 'gender'), ('location', '_place_of_birth', '_parents', 'gender'), ('place_of_birth', '_place_of_death', 'parents', 'gender'), ('nationality', '_place_of_death', '_parents', 'gender'), ('location', '_location', 'gender'), ('location', '_location', 'parents', 'gender'), ('nationality', '_nationality', 'spouse', 'gender'), ('nationality', '_nationality', '_spouse', 'gender'), ('location', '_place_of_birth', '_spouse', 'gender'), ('place_of_birth', '_place_of_birth', 'spouse', 'gender'), ('nationality', '_nationality', 'children', 'gender'), ('location', '_place_of_death', 'children', 'gender'), ('place_of_death', '_location', 'gender'), ('nationality', '_place_of_birth', 'children', 'gender'), ('place_of_birth', '_place_of_birth', 'parents', 'gender'), ('nationality', '_place_of_birth', '_children', 'gender'), ('place_of_birth', '_location', 'spouse', 'gender'), ('location', '_place_of_death', 'gender'), ('nationality', '_place_of_death', 'children', 'gender'), ('nationality', '_nationality', 'parents', 'gender'), ('location', '_place_of_death', 'spouse', 'gender'), ('nationality', '_place_of_birth', 'parents', 'gender'), ('location', '_place_of_death', '_children', 'gender'), ('place_of_birth', '_location', '_children', 'gender'), ('place_of_birth', '_place_of_birth', 'gender'), ('location', '_location', '_parents', 'gender'), ('place_of_birth', '_place_of_death', 'gender'), ('place_of_birth', '_place_of_death', '_parents', 'gender'), ('nationality', '_place_of_death', 'parents', 'gender'), ('place_of_birth', '_place_of_birth', 'children', 'gender'), ('place_of_birth', '_place_of_death', 'spouse', 'gender'), ('nationality', '_location', 'gender'), ('nationality', '_nationality', '_children', 'gender'), ('place_of_birth', '_place_of_death', 'children', 'gender'), ('nationality', '_place_of_death', '_children', 'gender'), ('nationality', '_place_of_death', 'gender'), ('location', '_place_of_birth', 'children', 'gender'), ('nationality', '_location', 'parents', 'gender'), ('location', '_place_of_birth', '_children', 'gender'), ('nationality', '_location', '_children', 'gender'), ('place_of_death', '_place_of_birth', 'gender'), ('place_of_birth', '_place_of_death', '_children', 'gender'), ('location', '_location', '_children', 'gender'), ('place_of_birth', '_place_of_birth', '_spouse', 'gender'), ('location', '_place_of_death', '_spouse', 'gender'), ('place_of_death', '_place_of_death', 'gender'), ('place_of_birth', '_place_of_birth', '_children', 'gender'), ('nationality', '_place_of_death', 'spouse', 'gender'), ('nationality', '_nationality', '_parents', 'gender'), ('nationality', '_place_of_birth', 'gender'), ('nationality', '_place_of_birth', '_spouse', 'gender'), ('place_of_birth', '_location', 'gender'), ('location', '_location', 'children', 'gender'), ('place_of_birth', '_place_of_birth', '_parents', 'gender'), ('location', '_place_of_death', '_parents', 'gender'), ('nationality', '_place_of_death', '_spouse', 'gender'), ('location', '_place_of_death', 'parents', 'gender'), ('place_of_birth', '_location', '_spouse', 'gender'), ('nationality', '_profession', 'gender'), ('nationality', '_place_of_birth', '_parents', 'gender'), ('place_of_birth', '_location', 'children', 'gender'), ('place_of_birth', '_location', 'parents', 'gender'), ('location', '_location', '_spouse', 'gender'), ('location', '_place_of_birth', 'gender'), ('nationality', '_nationality', 'gender'), ('place_of_birth', '_location', '_parents', 'gender'), ('location', '_place_of_birth', 'spouse', 'gender'), ('place_of_birth', '_place_of_death', '_spouse', 'gender'), ('nationality', '_place_of_birth', 'spouse', 'gender')]))\n",
      "\n",
      "Number of features: 70\n",
      "\n",
      "\n",
      "('bhagat_singh', 'place_of_death', 'lahore', set([('nationality', '_nationality', '_parents', 'place_of_death'), ('gender', '_gender', 'place_of_birth'), ('gender', '_gender', 'children', 'place_of_birth'), ('cause_of_death', '_cause_of_death', 'place_of_death'), ('gender', '_gender', '_parents', 'place_of_death'), ('gender', '_gender', 'spouse', 'place_of_death'), ('gender', '_gender', 'location'), ('profession', '_profession', 'location'), ('nationality', '_nationality', 'location'), ('religion', '_religion', 'location'), ('gender', '_gender', '_children', 'location'), ('gender', '_gender', '_parents', 'location'), ('religion', '_religion', 'children', 'place_of_death'), ('gender', '_gender', '_spouse', 'place_of_death'), ('nationality', '_nationality', 'place_of_death'), ('gender', '_gender', '_children', 'place_of_birth'), ('gender', '_gender', 'parents', 'place_of_birth'), ('gender', '_gender', '_parents', 'place_of_birth'), ('religion', '_religion', '_parents', 'place_of_death'), ('gender', '_gender', 'place_of_death'), ('gender', '_gender', 'children', 'location'), ('gender', '_gender', 'parents', 'location'), ('nationality', '_nationality', '_children', 'location'), ('nationality', '_nationality', 'place_of_birth'), ('religion', '_religion', 'place_of_birth'), ('nationality', '_nationality', 'children', 'place_of_death'), ('profession', '_profession', 'place_of_death'), ('nationality', '_nationality', '_children', 'place_of_birth'), ('nationality', '_nationality', 'parents', 'place_of_birth'), ('profession', '_profession', 'place_of_birth'), ('gender', '_gender', 'children', 'place_of_death'), ('religion', '_religion', 'place_of_death'), ('nationality', '_nationality', 'parents', 'location')]))\n",
      "\n",
      "Number of features: 33\n",
      "\n",
      "\n",
      "('big_moe', 'ethnicity', 'african_american', set([('nationality', '_place_of_death', 'ethnicity'), ('nationality', '_location', 'ethnicity'), ('place_of_birth', '_place_of_birth', 'ethnicity'), ('gender', '_gender', '_parents', 'ethnicity'), ('nationality', '_nationality', '_children', 'ethnicity'), ('profession', '_profession', '_children', 'ethnicity'), ('gender', '_gender', 'spouse', 'ethnicity'), ('profession', '_profession', 'spouse', 'ethnicity'), ('profession', '_profession', 'ethnicity'), ('nationality', '_nationality', 'children', 'ethnicity'), ('nationality', '_nationality', 'parents', 'ethnicity'), ('nationality', '_nationality', 'ethnicity'), ('gender', '_gender', 'children', 'ethnicity'), ('gender', '_gender', '_children', 'ethnicity'), ('gender', '_gender', 'ethnicity'), ('nationality', '_nationality', 'spouse', 'ethnicity'), ('nationality', '_nationality', '_spouse', 'ethnicity'), ('gender', '_gender', 'parents', 'ethnicity'), ('nationality', '_place_of_birth', 'ethnicity'), ('profession', '_profession', '_spouse', 'ethnicity'), ('profession', '_profession', 'parents', 'ethnicity'), ('place_of_birth', '_place_of_death', 'ethnicity'), ('nationality', '_nationality', 'nationality'), ('gender', '_gender', 'nationality'), ('gender', '_gender', '_spouse', 'ethnicity'), ('nationality', '_nationality', '_parents', 'ethnicity')]))\n",
      "\n",
      "Number of features: 26\n",
      "\n",
      "\n",
      "('charles_jackson_paine', 'nationality', 'united_states', set([('gender', '_gender', '_parents', 'nationality'), ('place_of_birth', '_place_of_death', 'nationality'), ('place_of_death', '_place_of_death', 'nationality'), ('place_of_birth', '_place_of_birth', '_children', 'nationality'), ('location', '_place_of_birth', 'nationality'), ('location', '_place_of_death', 'parents', 'nationality'), ('place_of_birth', '_place_of_death', 'spouse', 'nationality'), ('place_of_birth', '_place_of_birth', 'spouse', 'nationality'), ('location', '_location', 'parents', 'nationality'), ('location', '_place_of_death', 'nationality'), ('place_of_birth', '_location', 'children', 'nationality'), ('location', '_place_of_death', '_children', 'nationality'), ('location', '_location', 'children', 'nationality'), ('location', '_location', 'spouse', 'nationality'), ('gender', '_gender', 'profession'), ('location', '_place_of_birth', 'children', 'nationality'), ('place_of_birth', '_place_of_birth', 'place_of_death'), ('gender', '_gender', 'parents', 'place_of_death'), ('gender', '_gender', '_parents', 'place_of_death'), ('place_of_birth', '_place_of_birth', 'nationality'), ('place_of_birth', '_place_of_death', 'location'), ('place_of_birth', '_place_of_death', '_parents', 'nationality'), ('gender', '_gender', 'spouse', 'place_of_death'), ('place_of_birth', '_location', 'place_of_death'), ('gender', '_gender', 'location'), ('location', '_location', 'place_of_death'), ('place_of_birth', '_location', 'nationality'), ('location', '_place_of_death', '_spouse', 'nationality'), ('place_of_birth', '_place_of_death', 'parents', 'nationality'), ('gender', '_gender', '_parents', 'location'), ('gender', '_gender', '_children', 'nationality'), ('location', '_place_of_birth', '_spouse', 'nationality'), ('location', '_location', '_parents', 'nationality'), ('place_of_birth', '_place_of_birth', 'location'), ('location', '_place_of_death', 'spouse', 'nationality'), ('gender', '_gender', 'spouse', 'place_of_birth'), ('place_of_birth', '_place_of_death', '_children', 'nationality'), ('gender', '_gender', '_spouse', 'place_of_birth'), ('gender', '_gender', '_spouse', 'nationality'), ('place_of_birth', '_location', '_children', 'nationality'), ('gender', '_gender', '_spouse', 'place_of_death'), ('gender', '_gender', 'children', 'place_of_birth'), ('location', '_location', '_spouse', 'nationality'), ('gender', '_gender', 'parents', 'place_of_birth'), ('gender', '_gender', '_parents', 'place_of_birth'), ('place_of_birth', '_place_of_birth', 'children', 'nationality'), ('gender', '_gender', 'place_of_death'), ('location', '_location', 'profession'), ('place_of_birth', '_location', 'spouse', 'nationality'), ('location', '_place_of_birth', 'parents', 'nationality'), ('location', '_place_of_birth', 'location'), ('location', '_place_of_death', '_parents', 'nationality'), ('location', '_location', 'place_of_birth'), ('gender', '_gender', 'place_of_birth'), ('gender', '_gender', 'children', 'nationality'), ('location', '_location', 'nationality'), ('gender', '_gender', 'spouse', 'nationality'), ('location', '_place_of_death', 'location'), ('place_of_birth', '_place_of_death', '_spouse', 'nationality'), ('place_of_birth', '_place_of_birth', '_spouse', 'nationality'), ('gender', '_gender', 'parents', 'nationality'), ('location', '_place_of_birth', 'place_of_death'), ('gender', '_gender', '_children', 'place_of_birth'), ('place_of_birth', '_location', '_spouse', 'nationality'), ('place_of_birth', '_location', 'profession'), ('place_of_birth', '_location', '_parents', 'nationality'), ('location', '_place_of_death', 'children', 'nationality'), ('place_of_birth', '_place_of_birth', 'parents', 'nationality'), ('place_of_birth', '_place_of_death', 'children', 'nationality'), ('place_of_birth', '_place_of_birth', '_parents', 'nationality'), ('location', '_place_of_birth', '_parents', 'nationality'), ('gender', '_gender', 'children', 'location'), ('location', '_place_of_birth', '_children', 'nationality'), ('place_of_birth', '_location', 'place_of_birth'), ('gender', '_gender', 'nationality'), ('location', '_place_of_birth', 'spouse', 'nationality'), ('place_of_birth', '_location', 'parents', 'nationality'), ('gender', '_gender', 'children', 'place_of_death'), ('location', '_location', '_children', 'nationality'), ('gender', '_gender', '_children', 'place_of_death')]))\n",
      "\n",
      "Number of features: 80\n",
      "\n",
      "\n",
      "('ernst_lecher', 'gender', 'male', set([('place_of_birth', '_location', '_spouse', 'gender'), ('place_of_birth', '_place_of_death', 'parents', 'gender'), ('nationality', '_place_of_death', '_parents', 'gender'), ('place_of_death', '_place_of_birth', 'children', 'gender'), ('nationality', '_nationality', 'spouse', 'gender'), ('nationality', '_nationality', '_spouse', 'gender'), ('place_of_death', '_place_of_death', '_parents', 'gender'), ('place_of_birth', '_place_of_birth', 'spouse', 'gender'), ('nationality', '_nationality', 'children', 'gender'), ('place_of_death', '_location', 'gender'), ('place_of_birth', '_place_of_birth', 'gender'), ('place_of_birth', '_place_of_birth', 'parents', 'gender'), ('place_of_death', '_location', '_parents', 'gender'), ('place_of_birth', '_place_of_death', '_spouse', 'gender'), ('place_of_death', '_place_of_birth', 'spouse', 'gender'), ('place_of_birth', '_location', '_children', 'gender'), ('nationality', '_place_of_death', 'children', 'gender'), ('nationality', '_place_of_death', 'parents', 'gender'), ('place_of_birth', '_place_of_birth', 'children', 'gender'), ('place_of_birth', '_place_of_death', 'spouse', 'gender'), ('nationality', '_location', 'gender'), ('nationality', '_nationality', '_children', 'gender'), ('place_of_birth', '_place_of_death', 'children', 'gender'), ('place_of_death', '_place_of_birth', '_parents', 'gender'), ('nationality', '_place_of_death', '_children', 'gender'), ('nationality', '_place_of_death', 'gender'), ('place_of_death', '_place_of_death', 'parents', 'gender'), ('place_of_death', '_place_of_death', 'spouse', 'gender'), ('place_of_birth', '_place_of_death', '_children', 'gender'), ('place_of_death', '_place_of_birth', 'gender'), ('place_of_death', '_place_of_birth', '_spouse', 'gender'), ('place_of_death', '_location', '_children', 'gender'), ('place_of_birth', '_place_of_death', 'gender'), ('place_of_death', '_place_of_death', 'gender'), ('place_of_death', '_place_of_death', '_spouse', 'gender'), ('nationality', '_place_of_death', 'spouse', 'gender'), ('nationality', '_nationality', '_parents', 'gender'), ('nationality', '_place_of_birth', 'gender'), ('place_of_birth', '_location', 'gender'), ('place_of_birth', '_place_of_birth', '_parents', 'gender'), ('place_of_death', '_location', 'children', 'gender'), ('place_of_death', '_place_of_death', '_children', 'gender'), ('nationality', '_place_of_death', '_spouse', 'gender'), ('place_of_death', '_location', '_spouse', 'gender'), ('place_of_birth', '_location', 'parents', 'gender'), ('place_of_death', '_place_of_death', 'children', 'gender'), ('place_of_death', '_place_of_birth', '_children', 'gender'), ('place_of_death', '_place_of_birth', 'parents', 'gender'), ('place_of_birth', '_place_of_death', '_parents', 'gender'), ('place_of_birth', '_location', 'spouse', 'gender'), ('place_of_death', '_location', 'spouse', 'gender'), ('place_of_birth', '_location', 'children', 'gender'), ('place_of_death', '_location', 'parents', 'gender'), ('nationality', '_nationality', 'gender'), ('place_of_birth', '_location', '_parents', 'gender'), ('place_of_birth', '_place_of_birth', '_spouse', 'gender'), ('nationality', '_nationality', 'parents', 'gender'), ('place_of_birth', '_place_of_birth', '_children', 'gender')]))\n",
      "\n",
      "Number of features: 58\n",
      "\n",
      "\n",
      "('halford_john_mackinder', 'institution', 'christ_church_oxford', set([('nationality', '_nationality', 'children', 'institution'), ('nationality', '_nationality', 'institution'), ('profession', '_profession', 'parents', 'institution'), ('gender', '_gender', 'institution'), ('profession', '_profession', 'institution'), ('nationality', '_nationality', '_spouse', 'institution'), ('nationality', '_nationality', '_children', 'institution'), ('gender', '_gender', '_children', 'institution'), ('nationality', '_nationality', 'parents', 'institution'), ('profession', '_profession', '_children', 'institution'), ('nationality', '_nationality', '_parents', 'institution'), ('gender', '_gender', 'children', 'institution'), ('gender', '_gender', '_parents', 'institution'), ('nationality', '_nationality', 'spouse', 'institution'), ('gender', '_gender', 'parents', 'institution')]))\n",
      "\n",
      "Number of features: 15\n",
      "\n",
      "\n",
      "('jack_warden', 'place_of_birth', 'newark', set([('gender', '_gender', '_spouse', 'place_of_death'), ('place_of_death', '_location', 'parents', 'location'), ('nationality', '_location', 'place_of_death'), ('nationality', '_nationality', 'place_of_death'), ('nationality', '_nationality', '_parents', 'location'), ('nationality', '_nationality', 'spouse', 'place_of_death'), ('nationality', '_nationality', '_parents', 'place_of_death'), ('nationality', '_nationality', '_children', 'place_of_death'), ('gender', '_gender', 'parents', 'place_of_death'), ('gender', '_gender', '_parents', 'place_of_death'), ('location',), ('gender', '_gender', 'location'), ('gender', '_gender', '_parents', 'place_of_birth'), ('place_of_death', '_place_of_birth', 'location'), ('nationality', '_nationality', 'location'), ('gender', '_gender', 'place_of_birth'), ('nationality', '_nationality', 'parents', 'place_of_death'), ('gender', '_gender', '_parents', 'location'), ('place_of_death', '_location', '_children', 'location'), ('nationality', '_nationality', '_parents', 'place_of_birth'), ('place_of_death', '_place_of_death', 'children', 'place_of_birth'), ('place_of_death', '_place_of_death', '_parents', 'place_of_birth'), ('gender', '_gender', 'children', 'place_of_birth'), ('place_of_death', '_place_of_death', 'place_of_birth'), ('gender', '_gender', '_children', 'location'), ('place_of_death', '_location', '_children', 'place_of_birth'), ('place_of_death', '_location', 'place_of_birth'), ('gender', '_gender', 'place_of_death'), ('nationality', '_nationality', 'children', 'location'), ('gender', '_gender', 'spouse', 'place_of_death'), ('gender', '_gender', 'children', 'location'), ('place_of_death', '_location', 'place_of_death'), ('gender', '_gender', 'parents', 'location'), ('nationality', '_nationality', 'children', 'place_of_birth'), ('nationality', '_nationality', '_spouse', 'place_of_death'), ('nationality', '_nationality', '_children', 'location'), ('nationality', '_nationality', 'place_of_birth'), ('nationality', '_nationality', 'children', 'place_of_death'), ('place_of_death', '_place_of_birth', 'place_of_death'), ('place_of_death', '_location', 'parents', 'place_of_birth'), ('profession', '_profession', 'place_of_birth'), ('nationality', '_nationality', 'parents', 'location'), ('place_of_death', '_place_of_death', 'location'), ('place_of_death', '_location', 'location'), ('gender', '_gender', 'children', 'place_of_death'), ('gender', '_gender', '_children', 'place_of_death')]))\n",
      "\n",
      "Number of features: 46\n",
      "\n",
      "\n",
      "('jackson_c_pharris', 'nationality', 'united_states', set([('gender', '_gender', '_parents', 'nationality'), ('place_of_birth', '_place_of_death', 'nationality'), ('gender', '_gender', 'profession'), ('gender', '_gender', 'parents', 'place_of_death'), ('gender', '_gender', '_parents', 'place_of_death'), ('place_of_birth', '_place_of_birth', 'nationality'), ('gender', '_gender', 'spouse', 'place_of_birth'), ('gender', '_gender', 'spouse', 'place_of_death'), ('gender', '_gender', 'location'), ('place_of_birth', '_location', 'nationality'), ('gender', '_gender', '_parents', 'location'), ('gender', '_gender', '_children', 'nationality'), ('gender', '_gender', '_spouse', 'place_of_birth'), ('gender', '_gender', '_spouse', 'place_of_death'), ('gender', '_gender', 'children', 'place_of_birth'), ('gender', '_gender', '_children', 'place_of_birth'), ('gender', '_gender', 'parents', 'place_of_birth'), ('gender', '_gender', '_parents', 'place_of_birth'), ('gender', '_gender', 'place_of_death'), ('gender', '_gender', 'children', 'location'), ('gender', '_gender', 'place_of_birth'), ('gender', '_gender', 'children', 'nationality'), ('gender', '_gender', 'spouse', 'nationality'), ('gender', '_gender', '_spouse', 'nationality'), ('gender', '_gender', 'parents', 'nationality'), ('gender', '_gender', 'nationality'), ('gender', '_gender', 'children', 'place_of_death'), ('gender', '_gender', '_children', 'place_of_death')]))\n",
      "\n",
      "Number of features: 28\n",
      "\n",
      "\n",
      "('tony_snow', 'cause_of_death', 'cancer', set([('nationality', '_nationality', 'spouse', 'cause_of_death'), ('gender', '_gender', '_parents', 'cause_of_death'), ('gender', '_gender', '_children', 'cause_of_death'), ('profession', '_profession', '_children', 'cause_of_death'), ('nationality', '_location', 'cause_of_death'), ('location', '_place_of_birth', '_parents', 'cause_of_death'), ('nationality', '_nationality', '_parents', 'cause_of_death'), ('religion', '_religion', 'spouse', 'cause_of_death'), ('gender', '_gender', 'parents', 'cause_of_death'), ('location', '_place_of_birth', 'children', 'cause_of_death'), ('gender', '_gender', '_spouse', 'cause_of_death'), ('gender', '_gender', 'spouse', 'cause_of_death'), ('location', '_location', 'children', 'cause_of_death'), ('nationality', '_nationality', '_children', 'cause_of_death'), ('religion', '_religion', 'children', 'cause_of_death'), ('gender', '_gender', 'cause_of_death'), ('profession', '_profession', 'parents', 'cause_of_death'), ('nationality', '_nationality', 'cause_of_death'), ('nationality', '_nationality', 'parents', 'cause_of_death'), ('location', '_location', '_parents', 'cause_of_death'), ('nationality', '_place_of_birth', 'spouse', 'cause_of_death'), ('nationality', '_place_of_birth', '_spouse', 'cause_of_death'), ('religion', '_religion', '_parents', 'cause_of_death'), ('nationality', '_nationality', '_spouse', 'cause_of_death'), ('religion', '_religion', '_children', 'cause_of_death'), ('location', '_place_of_birth', 'cause_of_death'), ('nationality', '_place_of_birth', 'cause_of_death'), ('religion', '_religion', '_spouse', 'cause_of_death'), ('location', '_location', 'cause_of_death'), ('gender', '_gender', 'children', 'cause_of_death'), ('nationality', '_place_of_death', 'cause_of_death'), ('religion', '_religion', 'parents', 'cause_of_death'), ('profession', '_profession', 'cause_of_death'), ('religion', '_religion', 'cause_of_death'), ('nationality', '_nationality', 'children', 'cause_of_death')]))\n",
      "\n",
      "Number of features: 35\n",
      "\n",
      "\n",
      "('warring_kennedy', 'gender', 'male', set([('nationality', '_nationality', '_spouse', 'gender'), ('nationality', '_nationality', 'spouse', 'gender'), ('place_of_death', '_place_of_death', '_parents', 'gender'), ('place_of_death', '_location', 'gender'), ('place_of_death', '_location', '_parents', 'gender'), ('nationality', '_nationality', 'parents', 'gender'), ('place_of_death', '_place_of_birth', 'spouse', 'gender'), ('nationality', '_nationality', 'children', 'gender'), ('place_of_birth', '_place_of_birth', 'gender'), ('place_of_birth', '_place_of_birth', 'children', 'gender'), ('nationality', '_location', 'gender'), ('place_of_birth', '_location', 'children', 'gender'), ('place_of_death', '_place_of_birth', '_parents', 'gender'), ('nationality', '_place_of_death', 'gender'), ('place_of_death', '_place_of_death', 'parents', 'gender'), ('place_of_death', '_place_of_death', 'spouse', 'gender'), ('place_of_death', '_place_of_birth', 'gender'), ('place_of_death', '_place_of_birth', '_spouse', 'gender'), ('place_of_death', '_location', '_children', 'gender'), ('place_of_birth', '_place_of_death', 'gender'), ('place_of_death', '_place_of_death', 'gender'), ('place_of_death', '_place_of_death', '_spouse', 'gender'), ('nationality', '_nationality', '_parents', 'gender'), ('nationality', '_place_of_birth', 'gender'), ('place_of_birth', '_location', 'gender'), ('place_of_birth', '_place_of_birth', '_parents', 'gender'), ('place_of_death', '_location', 'children', 'gender'), ('place_of_death', '_location', '_spouse', 'gender'), ('place_of_death', '_place_of_birth', 'children', 'gender'), ('place_of_death', '_place_of_death', 'children', 'gender'), ('nationality', '_nationality', '_children', 'gender'), ('place_of_death', '_location', 'spouse', 'gender'), ('place_of_death', '_location', 'parents', 'gender'), ('nationality', '_nationality', 'gender'), ('place_of_death', '_place_of_birth', 'parents', 'gender'), ('place_of_birth', '_location', '_parents', 'gender'), ('place_of_death', '_place_of_death', '_children', 'gender'), ('place_of_death', '_place_of_birth', '_children', 'gender'), ('nationality', '_place_of_birth', 'spouse', 'gender')]))\n",
      "\n",
      "Number of features: 39\n",
      "\n",
      "\n"
     ]
    }
   ],
   "source": [
    "for idx,feats in res:\n",
    "    row = df.loc[idx]\n",
    "    print(row['head'], row['relation'], row['tail'], feats)\n",
    "    print \"\\nNumber of features: {}\\n\\n\".format(len(feats))"
   ]
  },
  {
   "cell_type": "code",
   "execution_count": 49,
   "metadata": {},
   "outputs": [
    {
     "name": "stdout",
     "output_type": "stream",
     "text": [
      "head        beals_wright\n",
      "relation          gender\n",
      "tail                male\n",
      "Name: 1230, dtype: object\n",
      "gender\n"
     ]
    }
   ],
   "source": [
    "for idx,row in df.iterrows():\n",
    "    print row\n",
    "#     print row['label'].get(None)\n",
    "    print row.get('relation', 98024370)\n",
    "    break"
   ]
  },
  {
   "cell_type": "code",
   "execution_count": null,
   "metadata": {},
   "outputs": [],
   "source": []
  },
  {
   "cell_type": "markdown",
   "metadata": {},
   "source": [
    "Experimenting with IDs instead of names: it did not help much."
   ]
  },
  {
   "cell_type": "code",
   "execution_count": null,
   "metadata": {},
   "outputs": [],
   "source": [
    "start_time = time.time()\n",
    "g2 = Graph()\n",
    "g2.partial_build_from_df(train2id)\n",
    "g2.partial_build_from_df(valid2id)\n",
    "print(\"Elapsed time: {}\".format(time.time() - start_time))"
   ]
  },
  {
   "cell_type": "code",
   "execution_count": null,
   "metadata": {},
   "outputs": [],
   "source": [
    "sfe2 = SFE(g2)"
   ]
  },
  {
   "cell_type": "code",
   "execution_count": null,
   "metadata": {},
   "outputs": [],
   "source": [
    "%%timeit\n",
    "df = train2id[1230:1231]\n",
    "feats = sfe2.extract_features(df, max_depth=2)\n",
    "feats = next(feats)"
   ]
  },
  {
   "cell_type": "code",
   "execution_count": null,
   "metadata": {},
   "outputs": [],
   "source": [
    "%%timeit\n",
    "paths = sfe2.search_paths(entity2id['beals_wright'], entity2id['male'], max_depth=2)"
   ]
  },
  {
   "cell_type": "code",
   "execution_count": null,
   "metadata": {},
   "outputs": [],
   "source": []
  },
  {
   "cell_type": "code",
   "execution_count": null,
   "metadata": {},
   "outputs": [],
   "source": []
  },
  {
   "cell_type": "code",
   "execution_count": null,
   "metadata": {},
   "outputs": [],
   "source": [
    "for idx,f in feats:\n",
    "    print idx\n",
    "    row = df.iloc[idx]\n",
    "    print(row['head'], row['relation'], row['tail'], f)"
   ]
  },
  {
   "cell_type": "code",
   "execution_count": null,
   "metadata": {},
   "outputs": [],
   "source": [
    "head, rel, tail, paths = (29639, 6, 67575, [['10', '_5'], ['_9', '_5'], ['9', '_5'], ['_10', '_5'], ['2', '_2', '_5'], ['_11', '_5'], ['11', '_5']])"
   ]
  },
  {
   "cell_type": "code",
   "execution_count": null,
   "metadata": {},
   "outputs": [],
   "source": [
    "print id2entity[head]\n",
    "print id2relation[rel]\n",
    "print id2entity[tail]\n",
    "for path in paths:\n",
    "    p = []\n",
    "    for r in path:\n",
    "        relation_id = int(r.replace('_', ''))\n",
    "        relation_label = id2relation[relation_id]\n",
    "        p.append(r.replace(str(relation_id), relation_label))\n",
    "    print p"
   ]
  },
  {
   "cell_type": "markdown",
   "metadata": {},
   "source": [
    "PRA results for `camilo_jose_cela` `nationality` `spain`:\n",
    "\n",
    "```\n",
    "-gender-_gender-place_of_birth-,1.0 -#-\n",
    "-gender-_gender-location-,1.0 -#-\n",
    "-gender-_gender-place_of_death-,1.0 -#-\n",
    "-profession-_profession-place_of_birth-,1.0 -#-\n",
    "-profession-_profession-place_of_death-,1.0 -#-\n",
    "-place_of_death-_place_of_death-place_of_birth-,1.0 -#-\n",
    "-place_of_death-_location-place_of_birth-,1.0 -#-\n",
    "-place_of_death-_place_of_birth-place_of_death-,1.0 -#-\n",
    "-place_of_death-_place_of_death-location-,1.0 -#-\n",
    "-place_of_death-_location-location-,1.0 -#-\n",
    "-profession-_profession-location-,1.0 -#-\n",
    "-gender-_gender-institution-,1.0\n",
    "```"
   ]
  },
  {
   "cell_type": "code",
   "execution_count": null,
   "metadata": {},
   "outputs": [],
   "source": [
    "paths = sfe.search_paths('spain', 'camilo_jose_cela', max_depth=2)\n",
    "for path in paths:\n",
    "    path_strings = []\n",
    "    for r in path:\n",
    "        path_strings.append(r.__str__())\n",
    "    print path_strings"
   ]
  },
  {
   "cell_type": "code",
   "execution_count": null,
   "metadata": {},
   "outputs": [],
   "source": [
    "node = sfe.graph.get_node('menasseh_ben_israel')"
   ]
  },
  {
   "cell_type": "code",
   "execution_count": null,
   "metadata": {},
   "outputs": [],
   "source": [
    "for n in node.neighbors: print n"
   ]
  },
  {
   "cell_type": "code",
   "execution_count": null,
   "metadata": {},
   "outputs": [],
   "source": [
    "node = sfe.graph.get_node('spain')\n",
    "for n in node.neighbors: print n"
   ]
  },
  {
   "cell_type": "code",
   "execution_count": null,
   "metadata": {},
   "outputs": [],
   "source": [
    "sfe.graph.get_node('richard_baxter') in node.neighbors"
   ]
  },
  {
   "cell_type": "code",
   "execution_count": null,
   "metadata": {},
   "outputs": [],
   "source": [
    "# run for one triple\n",
    "start_time = time.time()\n",
    "paths = sfe.extract_features(0, 67393, 2)\n",
    "for p in paths:\n",
    "    print \"-----------path-----------\"\n",
    "    for e in p:\n",
    "        print e.__str__()\n",
    "print(\"Elapsed time: {}\".format(time.time() - start_time))"
   ]
  },
  {
   "cell_type": "code",
   "execution_count": null,
   "metadata": {},
   "outputs": [],
   "source": [
    "# run for n triples\n",
    "start_time = time.time()\n",
    "res = []\n",
    "for idx,row in train[:100].iterrows():\n",
    "    res.append(sfe.extract_features(row['head'], row['tail'], 2))\n",
    "print(\"Elapsed time: {}\".format(time.time() - start_time))"
   ]
  },
  {
   "cell_type": "code",
   "execution_count": null,
   "metadata": {},
   "outputs": [],
   "source": [
    "with open('output_test.txt', 'w') as f:\n",
    "    for row in res:\n",
    "        for seq in row:\n",
    "            for edge in seq:\n",
    "                f.write(edge.__str__())\n",
    "                f.write(',')\n",
    "            f.write(\"\\n\")"
   ]
  },
  {
   "cell_type": "code",
   "execution_count": null,
   "metadata": {},
   "outputs": [],
   "source": [
    "!cat output_test.txt"
   ]
  },
  {
   "cell_type": "code",
   "execution_count": null,
   "metadata": {},
   "outputs": [],
   "source": []
  },
  {
   "cell_type": "code",
   "execution_count": null,
   "metadata": {},
   "outputs": [],
   "source": []
  },
  {
   "cell_type": "code",
   "execution_count": null,
   "metadata": {},
   "outputs": [],
   "source": []
  },
  {
   "cell_type": "markdown",
   "metadata": {},
   "source": [
    "---\n",
    "\n",
    "# NELL186"
   ]
  },
  {
   "cell_type": "code",
   "execution_count": null,
   "metadata": {},
   "outputs": [],
   "source": [
    "dataset_path = './benchmarks/NELL186'\n",
    "\n",
    "train2id = pd.read_csv(dataset_path + '/train2id.txt', sep=' ', skiprows=1, names=['head', 'tail', 'relation'])\n",
    "valid2id = pd.read_csv(dataset_path + '/valid2id.txt', sep=' ', skiprows=1, names=['head', 'tail', 'relation'])\n",
    "test2id = pd.read_csv(dataset_path + '/test2id.txt', sep=' ', skiprows=1, names=['head', 'tail', 'relation'])\n",
    "\n",
    "from tools import dataset_tools\n",
    "entity2id, id2entity     = dataset_tools.read_name2id_file(dataset_path + '/entity2id.txt')\n",
    "relation2id, id2relation = dataset_tools.read_name2id_file(dataset_path + '/relation2id.txt')\n",
    "\n",
    "train = pd.read_csv(dataset_path + '/train.txt', sep='\\t', skiprows=0, names=['head', 'relation', 'tail'])\n",
    "valid = pd.read_csv(dataset_path + '/valid.txt', sep='\\t', skiprows=0, names=['head', 'relation', 'tail', 'label'])\n",
    "test = pd.read_csv(dataset_path + '/test.txt', sep='\\t', skiprows=0, names=['head', 'relation', 'tail', 'label'])\n",
    "\n",
    "valid_pos = valid.loc[valid['label'] == 1]"
   ]
  },
  {
   "cell_type": "code",
   "execution_count": null,
   "metadata": {},
   "outputs": [],
   "source": [
    "start_time = time.time()\n",
    "g = Graph()\n",
    "g.partial_build_from_df(train)\n",
    "g.partial_build_from_df(valid_pos)\n",
    "print(\"Elapsed time: {}\".format(time.time() - start_time))"
   ]
  },
  {
   "cell_type": "code",
   "execution_count": null,
   "metadata": {},
   "outputs": [],
   "source": [
    "sfe = SFE(g)"
   ]
  },
  {
   "cell_type": "code",
   "execution_count": null,
   "metadata": {},
   "outputs": [],
   "source": [
    "train.head()"
   ]
  },
  {
   "cell_type": "markdown",
   "metadata": {},
   "source": [
    "## Find paths between an instance (node pair)"
   ]
  },
  {
   "cell_type": "code",
   "execution_count": null,
   "metadata": {},
   "outputs": [],
   "source": [
    "%%time\n",
    "paths = sfe.search_paths('concept:academicfield:applied_science', 'concept:academicfield:engineering_technology', max_depth=2)"
   ]
  },
  {
   "cell_type": "code",
   "execution_count": null,
   "metadata": {},
   "outputs": [],
   "source": [
    "lpaths = {}\n",
    "for path in paths:\n",
    "    lpaths[len(path)] = lpaths.get(len(path), []) + [path]\n",
    "for idx, ps in lpaths.iteritems():\n",
    "    print \"Paths of length: \", idx\n",
    "    for p in ps: print p\n",
    "    print\n",
    "print \"\\nNumber of paths: {}\\n\\n\".format(len(paths))"
   ]
  },
  {
   "cell_type": "markdown",
   "metadata": {},
   "source": [
    "## Try to run SFE for the entire dataset"
   ]
  },
  {
   "cell_type": "code",
   "execution_count": null,
   "metadata": {},
   "outputs": [],
   "source": [
    "valid.head()"
   ]
  },
  {
   "cell_type": "code",
   "execution_count": null,
   "metadata": {},
   "outputs": [],
   "source": [
    "valid.label.unique()"
   ]
  },
  {
   "cell_type": "code",
   "execution_count": null,
   "metadata": {},
   "outputs": [],
   "source": [
    "len(valid.sort_values(by=['head', 'tail']))"
   ]
  },
  {
   "cell_type": "code",
   "execution_count": null,
   "metadata": {},
   "outputs": [],
   "source": [
    "%%time\n",
    "res = sfe.extract_features(valid, max_depth=2, batch_size=999999)"
   ]
  },
  {
   "cell_type": "code",
   "execution_count": null,
   "metadata": {},
   "outputs": [],
   "source": [
    "%%time\n",
    "boo = next(res)"
   ]
  },
  {
   "cell_type": "code",
   "execution_count": null,
   "metadata": {},
   "outputs": [],
   "source": [
    "len(boo)"
   ]
  },
  {
   "cell_type": "code",
   "execution_count": null,
   "metadata": {},
   "outputs": [],
   "source": [
    "len(boo)"
   ]
  },
  {
   "cell_type": "markdown",
   "metadata": {},
   "source": [
    "# Debug python"
   ]
  },
  {
   "cell_type": "code",
   "execution_count": null,
   "metadata": {},
   "outputs": [],
   "source": [
    "l = [1,2,3,4,5,6]"
   ]
  },
  {
   "cell_type": "code",
   "execution_count": null,
   "metadata": {},
   "outputs": [],
   "source": [
    "l.remove(3)"
   ]
  },
  {
   "cell_type": "code",
   "execution_count": null,
   "metadata": {},
   "outputs": [],
   "source": [
    "l"
   ]
  },
  {
   "cell_type": "code",
   "execution_count": null,
   "metadata": {},
   "outputs": [],
   "source": [
    "s = {1,2,3,4}"
   ]
  },
  {
   "cell_type": "code",
   "execution_count": null,
   "metadata": {},
   "outputs": [],
   "source": [
    "s - {4}"
   ]
  },
  {
   "cell_type": "code",
   "execution_count": null,
   "metadata": {},
   "outputs": [],
   "source": [
    "s"
   ]
  },
  {
   "cell_type": "code",
   "execution_count": null,
   "metadata": {},
   "outputs": [],
   "source": [
    "from itertools import product\n",
    "l = [[1], [5,90,84]]\n",
    "res = product(*l)\n",
    "s = set()\n",
    "s.update(res)\n",
    "s"
   ]
  },
  {
   "cell_type": "code",
   "execution_count": null,
   "metadata": {},
   "outputs": [],
   "source": [
    "import math\n",
    "float('inf') > 10"
   ]
  },
  {
   "cell_type": "markdown",
   "metadata": {},
   "source": [
    "# Investigating difference in:\n",
    "\n",
    "1. Max Depth = 2 and Max Fan Out = Infinite\n",
    "2. Max Depth = 4 and Max Fan Out = 1000"
   ]
  },
  {
   "cell_type": "code",
   "execution_count": 23,
   "metadata": {},
   "outputs": [
    {
     "name": "stdout",
     "output_type": "stream",
     "text": [
      "time get nodes: 6.91413879395e-06\n",
      "time to perform BFS on both nodes: 3.06642198563\n",
      "time to merge edge sequences: 0.157758235931\n"
     ]
    },
    {
     "data": {
      "text/plain": [
       "{('ethnicity', '_ethnicity', '_children', 'gender'),\n",
       " ('ethnicity', '_ethnicity', '_parents', 'gender'),\n",
       " ('ethnicity', '_ethnicity', '_spouse', 'gender'),\n",
       " ('ethnicity', '_ethnicity', 'children', 'gender'),\n",
       " ('ethnicity', '_ethnicity', 'gender'),\n",
       " ('ethnicity', '_ethnicity', 'parents', 'gender'),\n",
       " ('ethnicity', '_ethnicity', 'spouse', 'gender'),\n",
       " ('gender',),\n",
       " ('nationality', '_institution', '_children', 'gender'),\n",
       " ('nationality', '_institution', 'gender'),\n",
       " ('nationality', '_institution', 'parents', 'gender'),\n",
       " ('nationality', '_location', 'gender'),\n",
       " ('nationality', '_nationality', '_children', 'gender'),\n",
       " ('nationality', '_nationality', '_parents', 'gender'),\n",
       " ('nationality', '_nationality', '_place_of_death', 'gender'),\n",
       " ('nationality', '_nationality', '_spouse', 'gender'),\n",
       " ('nationality', '_nationality', 'children', 'gender'),\n",
       " ('nationality', '_nationality', 'gender'),\n",
       " ('nationality', '_nationality', 'parents', 'gender'),\n",
       " ('nationality', '_nationality', 'spouse', 'gender'),\n",
       " ('nationality', '_place_of_birth', '_children', 'gender'),\n",
       " ('nationality', '_place_of_birth', 'gender'),\n",
       " ('nationality', '_place_of_birth', 'parents', 'gender'),\n",
       " ('nationality', '_place_of_death', '_children', 'gender'),\n",
       " ('nationality', '_place_of_death', '_spouse', 'gender'),\n",
       " ('nationality', '_place_of_death', 'gender'),\n",
       " ('nationality', '_place_of_death', 'parents', 'gender'),\n",
       " ('nationality', '_place_of_death', 'spouse', 'gender'),\n",
       " ('place_of_death', '_location', '_children', 'gender'),\n",
       " ('place_of_death', '_location', '_parents', 'gender'),\n",
       " ('place_of_death', '_location', '_spouse', 'gender'),\n",
       " ('place_of_death', '_location', 'children', 'gender'),\n",
       " ('place_of_death', '_location', 'gender'),\n",
       " ('place_of_death', '_location', 'parents', 'gender'),\n",
       " ('place_of_death', '_location', 'spouse', 'gender'),\n",
       " ('place_of_death', '_place_of_birth', '_children', 'gender'),\n",
       " ('place_of_death', '_place_of_birth', '_parents', 'gender'),\n",
       " ('place_of_death', '_place_of_birth', '_spouse', 'gender'),\n",
       " ('place_of_death', '_place_of_birth', 'children', 'gender'),\n",
       " ('place_of_death', '_place_of_birth', 'gender'),\n",
       " ('place_of_death', '_place_of_birth', 'parents', 'gender'),\n",
       " ('place_of_death', '_place_of_birth', 'spouse', 'gender'),\n",
       " ('place_of_death', '_place_of_death', '_children', 'gender'),\n",
       " ('place_of_death', '_place_of_death', '_parents', 'gender'),\n",
       " ('place_of_death', '_place_of_death', '_spouse', 'gender'),\n",
       " ('place_of_death', '_place_of_death', 'children', 'gender'),\n",
       " ('place_of_death', '_place_of_death', 'gender'),\n",
       " ('place_of_death', '_place_of_death', 'parents', 'gender'),\n",
       " ('place_of_death', '_place_of_death', 'spouse', 'gender'),\n",
       " ('profession', '_profession', '_children', 'gender'),\n",
       " ('profession', '_profession', '_parents', 'gender'),\n",
       " ('profession', '_profession', '_spouse', 'gender'),\n",
       " ('profession', '_profession', 'children', 'gender'),\n",
       " ('profession', '_profession', 'gender'),\n",
       " ('profession', '_profession', 'parents', 'gender'),\n",
       " ('profession', '_profession', 'spouse', 'gender')}"
      ]
     },
     "execution_count": 23,
     "metadata": {},
     "output_type": "execute_result"
    }
   ],
   "source": [
    "sfe.max_depth = 2\n",
    "sfe.max_fan_out = 99999999999\n",
    "paths2inf = sfe.search_paths('camilo_jose_cela', 'male')\n",
    "paths2inf"
   ]
  },
  {
   "cell_type": "code",
   "execution_count": null,
   "metadata": {},
   "outputs": [],
   "source": [
    "sfe.max_depth = 4\n",
    "sfe.max_fan_out = 1494\n",
    "paths4none = sfe.search_paths('camilo_jose_cela', 'male')\n",
    "paths4none"
   ]
  },
  {
   "cell_type": "code",
   "execution_count": null,
   "metadata": {},
   "outputs": [],
   "source": [
    "paths2inf.difference(paths4none)"
   ]
  },
  {
   "cell_type": "code",
   "execution_count": null,
   "metadata": {},
   "outputs": [],
   "source": [
    "camilo_jose_celta = g.get_node('camilo_jose_cela')"
   ]
  },
  {
   "cell_type": "code",
   "execution_count": null,
   "metadata": {},
   "outputs": [],
   "source": [
    "debug_print(camilo_jose_celta.neighbors)"
   ]
  },
  {
   "cell_type": "code",
   "execution_count": null,
   "metadata": {},
   "outputs": [],
   "source": [
    "print len(g.get_node('writer').neighbors)\n",
    "print g.get_node('writer').fan_out\n",
    "print len(g.get_node('male').neighbors)\n",
    "print g.get_node('male').fan_out\n",
    "print len(g.get_node('novelist').neighbors)\n",
    "print g.get_node('novelist').fan_out"
   ]
  },
  {
   "cell_type": "code",
   "execution_count": null,
   "metadata": {},
   "outputs": [],
   "source": [
    "sfe.bfs_node_seqs(sfe.graph.get_node('male'))"
   ]
  },
  {
   "cell_type": "code",
   "execution_count": null,
   "metadata": {},
   "outputs": [],
   "source": [
    "camilo_jose_celta.neighbor2edgesstr[sfe.graph.get_node('novelist')]"
   ]
  },
  {
   "cell_type": "markdown",
   "metadata": {},
   "source": [
    "---\n",
    "\n",
    "# Compare my SFE with Gardner's (PRA repo)"
   ]
  },
  {
   "cell_type": "markdown",
   "metadata": {},
   "source": [
    "Features found by PRA for (`yongzheng_emperor`, `maria_elisabeth_of_austria`):\n",
    "\n",
    "```\n",
    "_children, gender, _gender\n",
    "parents, gender, _gender\n",
    "_spouse, gender, _gender\n",
    "spouse, gender, _gender\n",
    "```"
   ]
  },
  {
   "cell_type": "code",
   "execution_count": 24,
   "metadata": {},
   "outputs": [],
   "source": [
    "sfe.max_depth = 2\n",
    "sfe.max_fan_out = 100"
   ]
  },
  {
   "cell_type": "code",
   "execution_count": 25,
   "metadata": {},
   "outputs": [
    {
     "name": "stdout",
     "output_type": "stream",
     "text": [
      "time get nodes: 6.19888305664e-06\n",
      "time to perform BFS on both nodes: 0.00113296508789\n",
      "time to merge edge sequences: 0.000262975692749\n"
     ]
    },
    {
     "data": {
      "text/plain": [
       "{('_children', 'gender', '_gender'),\n",
       " ('_spouse', 'gender', '_gender'),\n",
       " ('parents', 'gender', '_gender'),\n",
       " ('spouse', 'gender', '_gender')}"
      ]
     },
     "execution_count": 25,
     "metadata": {},
     "output_type": "execute_result"
    }
   ],
   "source": [
    "sfe.search_paths('yongzheng_emperor', 'maria_elisabeth_of_austria')"
   ]
  },
  {
   "cell_type": "markdown",
   "metadata": {},
   "source": [
    "---\n",
    "Features found by PRA for (`jimmy_mcculloch`, `lady_caroline_lennox`):\n",
    "\n",
    "```\n",
    "-gender-_gender-_spouse-,1.0\n",
    "-gender-_gender-spouse-,1.0\n",
    "```"
   ]
  },
  {
   "cell_type": "code",
   "execution_count": 26,
   "metadata": {},
   "outputs": [
    {
     "name": "stdout",
     "output_type": "stream",
     "text": [
      "time get nodes: 4.05311584473e-06\n",
      "time to perform BFS on both nodes: 0.000751972198486\n",
      "time to merge edge sequences: 0.000103950500488\n"
     ]
    },
    {
     "data": {
      "text/plain": [
       "{('gender', '_gender', '_spouse'), ('gender', '_gender', 'spouse')}"
      ]
     },
     "execution_count": 26,
     "metadata": {},
     "output_type": "execute_result"
    }
   ],
   "source": [
    "sfe.search_paths('jimmy_mcculloch', 'lady_caroline_lennox')"
   ]
  },
  {
   "cell_type": "markdown",
   "metadata": {},
   "source": [
    "---\n",
    "PRA results for `camilo_jose_cela` `nationality` `spain`:"
   ]
  },
  {
   "cell_type": "code",
   "execution_count": 27,
   "metadata": {},
   "outputs": [],
   "source": [
    "res_gar = {('gender','_gender','place_of_birth'),\n",
    "('gender','_gender','location'),\n",
    "('gender','_gender','place_of_death'),\n",
    "('profession','_profession','place_of_birth'),\n",
    "('profession','_profession','place_of_death'),\n",
    "('place_of_death','_place_of_death','place_of_birth'),\n",
    "('place_of_death','_location','place_of_birth'),\n",
    "('place_of_death','_place_of_birth','place_of_death'),\n",
    "('place_of_death','_place_of_death','location'),\n",
    "('place_of_death','_location','location'),\n",
    "('profession','_profession','location'),\n",
    "('gender','_gender','institution')}"
   ]
  },
  {
   "cell_type": "code",
   "execution_count": 28,
   "metadata": {},
   "outputs": [
    {
     "name": "stdout",
     "output_type": "stream",
     "text": [
      "time get nodes: 5.00679016113e-06\n",
      "time to perform BFS on both nodes: 0.0253939628601\n",
      "time to merge edge sequences: 0.00680613517761\n"
     ]
    },
    {
     "data": {
      "text/plain": [
       "{('ethnicity', '_ethnicity', '_spouse', 'nationality'),\n",
       " ('ethnicity', '_ethnicity', 'nationality'),\n",
       " ('ethnicity', '_ethnicity', 'spouse', 'nationality'),\n",
       " ('gender', '_gender', 'institution'),\n",
       " ('gender', '_gender', 'location'),\n",
       " ('gender', '_gender', 'nationality'),\n",
       " ('gender', '_gender', 'place_of_birth'),\n",
       " ('gender', '_gender', 'place_of_death'),\n",
       " ('nationality',),\n",
       " ('place_of_death', '_location', '_children', 'nationality'),\n",
       " ('place_of_death', '_location', '_parents', 'nationality'),\n",
       " ('place_of_death', '_location', '_spouse', 'nationality'),\n",
       " ('place_of_death', '_location', 'children', 'nationality'),\n",
       " ('place_of_death', '_location', 'location'),\n",
       " ('place_of_death', '_location', 'nationality'),\n",
       " ('place_of_death', '_location', 'parents', 'nationality'),\n",
       " ('place_of_death', '_location', 'place_of_birth'),\n",
       " ('place_of_death', '_location', 'spouse', 'nationality'),\n",
       " ('place_of_death', '_place_of_birth', '_children', 'nationality'),\n",
       " ('place_of_death', '_place_of_birth', '_parents', 'nationality'),\n",
       " ('place_of_death', '_place_of_birth', '_spouse', 'nationality'),\n",
       " ('place_of_death', '_place_of_birth', '_spouse', 'place_of_birth'),\n",
       " ('place_of_death', '_place_of_birth', '_spouse', 'place_of_death'),\n",
       " ('place_of_death', '_place_of_birth', 'children', 'nationality'),\n",
       " ('place_of_death', '_place_of_birth', 'nationality'),\n",
       " ('place_of_death', '_place_of_birth', 'parents', 'nationality'),\n",
       " ('place_of_death', '_place_of_birth', 'place_of_death'),\n",
       " ('place_of_death', '_place_of_birth', 'spouse', 'nationality'),\n",
       " ('place_of_death', '_place_of_birth', 'spouse', 'place_of_birth'),\n",
       " ('place_of_death', '_place_of_birth', 'spouse', 'place_of_death'),\n",
       " ('place_of_death', '_place_of_death', '_children', 'nationality'),\n",
       " ('place_of_death', '_place_of_death', '_parents', 'nationality'),\n",
       " ('place_of_death', '_place_of_death', '_spouse', 'nationality'),\n",
       " ('place_of_death', '_place_of_death', '_spouse', 'place_of_birth'),\n",
       " ('place_of_death', '_place_of_death', '_spouse', 'place_of_death'),\n",
       " ('place_of_death', '_place_of_death', 'children', 'nationality'),\n",
       " ('place_of_death', '_place_of_death', 'location'),\n",
       " ('place_of_death', '_place_of_death', 'nationality'),\n",
       " ('place_of_death', '_place_of_death', 'parents', 'nationality'),\n",
       " ('place_of_death', '_place_of_death', 'place_of_birth'),\n",
       " ('place_of_death', '_place_of_death', 'spouse', 'nationality'),\n",
       " ('place_of_death', '_place_of_death', 'spouse', 'place_of_birth'),\n",
       " ('place_of_death', '_place_of_death', 'spouse', 'place_of_death'),\n",
       " ('profession', '_profession', 'location'),\n",
       " ('profession', '_profession', 'nationality'),\n",
       " ('profession', '_profession', 'place_of_birth'),\n",
       " ('profession', '_profession', 'place_of_death')}"
      ]
     },
     "execution_count": 28,
     "metadata": {},
     "output_type": "execute_result"
    }
   ],
   "source": [
    "sfe.max_depth = 2\n",
    "sfe.max_fan_out = 1000\n",
    "res_art = sfe.search_paths('camilo_jose_cela', 'spain')\n",
    "res_art"
   ]
  },
  {
   "cell_type": "code",
   "execution_count": 29,
   "metadata": {},
   "outputs": [
    {
     "data": {
      "text/plain": [
       "set()"
      ]
     },
     "execution_count": 29,
     "metadata": {},
     "output_type": "execute_result"
    }
   ],
   "source": [
    "res_gar - res_art"
   ]
  },
  {
   "cell_type": "code",
   "execution_count": 30,
   "metadata": {},
   "outputs": [
    {
     "data": {
      "text/plain": [
       "{('ethnicity', '_ethnicity', '_spouse', 'nationality'),\n",
       " ('ethnicity', '_ethnicity', 'nationality'),\n",
       " ('ethnicity', '_ethnicity', 'spouse', 'nationality'),\n",
       " ('gender', '_gender', 'nationality'),\n",
       " ('nationality',),\n",
       " ('place_of_death', '_location', '_children', 'nationality'),\n",
       " ('place_of_death', '_location', '_parents', 'nationality'),\n",
       " ('place_of_death', '_location', '_spouse', 'nationality'),\n",
       " ('place_of_death', '_location', 'children', 'nationality'),\n",
       " ('place_of_death', '_location', 'nationality'),\n",
       " ('place_of_death', '_location', 'parents', 'nationality'),\n",
       " ('place_of_death', '_location', 'spouse', 'nationality'),\n",
       " ('place_of_death', '_place_of_birth', '_children', 'nationality'),\n",
       " ('place_of_death', '_place_of_birth', '_parents', 'nationality'),\n",
       " ('place_of_death', '_place_of_birth', '_spouse', 'nationality'),\n",
       " ('place_of_death', '_place_of_birth', '_spouse', 'place_of_birth'),\n",
       " ('place_of_death', '_place_of_birth', '_spouse', 'place_of_death'),\n",
       " ('place_of_death', '_place_of_birth', 'children', 'nationality'),\n",
       " ('place_of_death', '_place_of_birth', 'nationality'),\n",
       " ('place_of_death', '_place_of_birth', 'parents', 'nationality'),\n",
       " ('place_of_death', '_place_of_birth', 'spouse', 'nationality'),\n",
       " ('place_of_death', '_place_of_birth', 'spouse', 'place_of_birth'),\n",
       " ('place_of_death', '_place_of_birth', 'spouse', 'place_of_death'),\n",
       " ('place_of_death', '_place_of_death', '_children', 'nationality'),\n",
       " ('place_of_death', '_place_of_death', '_parents', 'nationality'),\n",
       " ('place_of_death', '_place_of_death', '_spouse', 'nationality'),\n",
       " ('place_of_death', '_place_of_death', '_spouse', 'place_of_birth'),\n",
       " ('place_of_death', '_place_of_death', '_spouse', 'place_of_death'),\n",
       " ('place_of_death', '_place_of_death', 'children', 'nationality'),\n",
       " ('place_of_death', '_place_of_death', 'nationality'),\n",
       " ('place_of_death', '_place_of_death', 'parents', 'nationality'),\n",
       " ('place_of_death', '_place_of_death', 'spouse', 'nationality'),\n",
       " ('place_of_death', '_place_of_death', 'spouse', 'place_of_birth'),\n",
       " ('place_of_death', '_place_of_death', 'spouse', 'place_of_death'),\n",
       " ('profession', '_profession', 'nationality')}"
      ]
     },
     "execution_count": 30,
     "metadata": {},
     "output_type": "execute_result"
    }
   ],
   "source": [
    "res_art - res_gar"
   ]
  },
  {
   "cell_type": "code",
   "execution_count": 61,
   "metadata": {},
   "outputs": [
    {
     "name": "stdout",
     "output_type": "stream",
     "text": [
      "['Node(camilo_jose_cela)', 'Node(madrid)', 'Node(alfonso_xii_of_spain)', 'Node(mercedes_of_orleans)', 'Node(spain)']\n"
     ]
    }
   ],
   "source": [
    "from sfe.helpers import dfs_node_sequence_from_path\n",
    "gen = dfs_node_sequence_from_path(\n",
    "    sfe.graph.get_node('camilo_jose_cela'),\n",
    "    sfe.graph.get_node('spain'),\n",
    "    ('place_of_death', '_location', 'spouse', 'nationality')\n",
    ")\n",
    "debug_print(next(gen))"
   ]
  },
  {
   "cell_type": "code",
   "execution_count": 63,
   "metadata": {},
   "outputs": [
    {
     "ename": "StopIteration",
     "evalue": "",
     "output_type": "error",
     "traceback": [
      "\u001b[0;31m---------------------------------------------------------------------------\u001b[0m",
      "\u001b[0;31mStopIteration\u001b[0m                             Traceback (most recent call last)",
      "\u001b[0;32m<ipython-input-63-30121e2dc5a8>\u001b[0m in \u001b[0;36m<module>\u001b[0;34m()\u001b[0m\n\u001b[0;32m----> 1\u001b[0;31m \u001b[0mdebug_print\u001b[0m\u001b[0;34m(\u001b[0m\u001b[0mnext\u001b[0m\u001b[0;34m(\u001b[0m\u001b[0mgen\u001b[0m\u001b[0;34m)\u001b[0m\u001b[0;34m)\u001b[0m\u001b[0;34m\u001b[0m\u001b[0m\n\u001b[0m",
      "\u001b[0;31mStopIteration\u001b[0m: "
     ]
    }
   ],
   "source": [
    "debug_print(next(gen))"
   ]
  },
  {
   "cell_type": "code",
   "execution_count": null,
   "metadata": {},
   "outputs": [],
   "source": [
    "sfe.graph.get_node('camilo_jose_cela').get_edgestr2neighbors('ethnicity')[0].name"
   ]
  },
  {
   "cell_type": "code",
   "execution_count": null,
   "metadata": {},
   "outputs": [],
   "source": [
    "sfe.graph.get_node('galician_people').get_edgestr2neighbors('_ethnicity')[0].name"
   ]
  },
  {
   "cell_type": "code",
   "execution_count": null,
   "metadata": {},
   "outputs": [],
   "source": [
    "sfe.graph.get_node('francisco_franco').get_edgestr2neighbors('_spouse')[0].name"
   ]
  },
  {
   "cell_type": "code",
   "execution_count": null,
   "metadata": {},
   "outputs": [],
   "source": [
    "sfe.graph.get_node('carmen_polo').get_edgestr2neighbors('nationality')[0].name"
   ]
  },
  {
   "cell_type": "markdown",
   "metadata": {},
   "source": [
    "---\n",
    "PRA results for `frank_g_slaughter,johns_hopkins_university`:\n",
    "\n",
    "```\n",
    "-gender-_gender-institution-,1.0\n",
    "-profession-_profession-institution-,1.0\n",
    "-nationality-_nationality-institution-,1.0\n",
    "-nationality-_location-institution-,1.0\n",
    "-place_of_death-_place_of_birth-institution-,1.0\n",
    "-place_of_death-_location-institution-,1.0\n",
    "-location-_place_of_death-institution-,1.0\n",
    "-location-_location-institution-,1.0\n",
    "```"
   ]
  },
  {
   "cell_type": "code",
   "execution_count": null,
   "metadata": {},
   "outputs": [],
   "source": [
    "sfe.search_paths('frank_g_slaughter','johns_hopkins_university')"
   ]
  },
  {
   "cell_type": "markdown",
   "metadata": {},
   "source": [
    "---\n",
    "PRA results for `emily_donelson,united_states`:"
   ]
  },
  {
   "cell_type": "code",
   "execution_count": 64,
   "metadata": {},
   "outputs": [],
   "source": [
    "res_gar = {('spouse','nationality'),\n",
    "('_spouse','nationality'),\n",
    "('gender','_gender','profession'),\n",
    "('gender','_gender','place_of_birth'),\n",
    "('spouse','gender','_gender','place_of_birth'),\n",
    "('spouse','nationality','_place_of_birth','place_of_birth'),\n",
    "('_spouse','nationality','_place_of_birth','place_of_birth'),\n",
    "('_spouse','gender','_gender','place_of_birth'),\n",
    "('_spouse','gender','_gender','profession'),\n",
    "('spouse','nationality','_profession','profession'),\n",
    "('_spouse','nationality','_location','place_of_birth'),\n",
    "('_spouse','nationality','_nationality','place_of_birth'),\n",
    "('spouse','nationality','_nationality','place_of_birth'),\n",
    "('spouse','nationality','_place_of_death','place_of_birth'),\n",
    "('spouse','nationality','_nationality','profession'),\n",
    "('spouse','nationality','_location','place_of_birth'),\n",
    "('spouse','gender','_gender','profession'),\n",
    "('_spouse','nationality','_nationality','profession'),\n",
    "('_spouse','nationality','_profession','profession'),\n",
    "('_spouse','nationality','_place_of_death','place_of_birth'),\n",
    "('location','_location','place_of_birth'),\n",
    "('_spouse','location','_location','place_of_birth'),\n",
    "('spouse','location','_location','place_of_birth')}"
   ]
  },
  {
   "cell_type": "code",
   "execution_count": 72,
   "metadata": {},
   "outputs": [
    {
     "name": "stdout",
     "output_type": "stream",
     "text": [
      "time get nodes: 3.81469726562e-06\n",
      "time to perform BFS on both nodes: 0.00343179702759\n",
      "time to merge edge sequences: 0.000920057296753\n",
      "Paths of length:  1\n",
      "('nationality',)\n",
      "\n",
      "Paths of length:  2\n",
      "('spouse', 'nationality')\n",
      "('_spouse', 'nationality')\n",
      "\n",
      "Paths of length:  3\n",
      "('gender', '_gender', 'profession')\n",
      "('location', '_location', 'place_of_birth')\n",
      "('gender', '_gender', 'place_of_birth')\n",
      "\n",
      "Paths of length:  4\n",
      "('spouse', 'gender', '_gender', 'profession')\n",
      "('spouse', 'location', '_location', 'place_of_birth')\n",
      "('_spouse', 'gender', '_gender', 'profession')\n",
      "('_spouse', 'location', '_location', 'place_of_birth')\n",
      "('_spouse', 'gender', '_gender', 'place_of_birth')\n",
      "('spouse', 'gender', '_gender', 'place_of_birth')\n",
      "\n",
      "\n",
      "Number of paths: 12\n",
      "\n",
      "\n"
     ]
    }
   ],
   "source": [
    "sfe.max_fan_out = 100\n",
    "res_art = sfe.search_paths('emily_donelson','united_states')\n",
    "print_paths_per_length(res_art)"
   ]
  },
  {
   "cell_type": "code",
   "execution_count": 73,
   "metadata": {},
   "outputs": [
    {
     "data": {
      "text/plain": [
       "{('_spouse', 'nationality', '_location', 'place_of_birth'),\n",
       " ('_spouse', 'nationality', '_nationality', 'place_of_birth'),\n",
       " ('_spouse', 'nationality', '_nationality', 'profession'),\n",
       " ('_spouse', 'nationality', '_place_of_birth', 'place_of_birth'),\n",
       " ('_spouse', 'nationality', '_place_of_death', 'place_of_birth'),\n",
       " ('_spouse', 'nationality', '_profession', 'profession'),\n",
       " ('spouse', 'nationality', '_location', 'place_of_birth'),\n",
       " ('spouse', 'nationality', '_nationality', 'place_of_birth'),\n",
       " ('spouse', 'nationality', '_nationality', 'profession'),\n",
       " ('spouse', 'nationality', '_place_of_birth', 'place_of_birth'),\n",
       " ('spouse', 'nationality', '_place_of_death', 'place_of_birth'),\n",
       " ('spouse', 'nationality', '_profession', 'profession')}"
      ]
     },
     "execution_count": 73,
     "metadata": {},
     "output_type": "execute_result"
    }
   ],
   "source": [
    "res_gar - res_art"
   ]
  },
  {
   "cell_type": "code",
   "execution_count": 74,
   "metadata": {},
   "outputs": [
    {
     "data": {
      "text/plain": [
       "{('nationality',)}"
      ]
     },
     "execution_count": 74,
     "metadata": {},
     "output_type": "execute_result"
    }
   ],
   "source": [
    "res_art - res_gar"
   ]
  },
  {
   "cell_type": "code",
   "execution_count": 75,
   "metadata": {},
   "outputs": [
    {
     "name": "stdout",
     "output_type": "stream",
     "text": [
      "['Node(emily_donelson)', 'Node(tennessee)', 'Node(david_lipscomb)', 'Node(united_states)']\n"
     ]
    }
   ],
   "source": [
    "from sfe.helpers import dfs_node_sequence_from_path\n",
    "\n",
    "gen = dfs_node_sequence_from_path(\n",
    "    sfe.graph.get_node('emily_donelson'),\n",
    "    sfe.graph.get_node('united_states'),\n",
    "    ('location', '_place_of_birth', 'place_of_death')\n",
    ")\n",
    "debug_print(next(gen))"
   ]
  },
  {
   "cell_type": "code",
   "execution_count": 71,
   "metadata": {},
   "outputs": [
    {
     "ename": "StopIteration",
     "evalue": "",
     "output_type": "error",
     "traceback": [
      "\u001b[0;31m---------------------------------------------------------------------------\u001b[0m",
      "\u001b[0;31mStopIteration\u001b[0m                             Traceback (most recent call last)",
      "\u001b[0;32m<ipython-input-71-30121e2dc5a8>\u001b[0m in \u001b[0;36m<module>\u001b[0;34m()\u001b[0m\n\u001b[0;32m----> 1\u001b[0;31m \u001b[0mdebug_print\u001b[0m\u001b[0;34m(\u001b[0m\u001b[0mnext\u001b[0m\u001b[0;34m(\u001b[0m\u001b[0mgen\u001b[0m\u001b[0;34m)\u001b[0m\u001b[0;34m)\u001b[0m\u001b[0;34m\u001b[0m\u001b[0m\n\u001b[0m",
      "\u001b[0;31mStopIteration\u001b[0m: "
     ]
    }
   ],
   "source": [
    "debug_print(next(gen))"
   ]
  },
  {
   "cell_type": "code",
   "execution_count": null,
   "metadata": {},
   "outputs": [],
   "source": [
    "usa = sfe.graph.get_node('united_states')"
   ]
  },
  {
   "cell_type": "code",
   "execution_count": null,
   "metadata": {},
   "outputs": [],
   "source": [
    "usa.fan_out"
   ]
  },
  {
   "cell_type": "code",
   "execution_count": null,
   "metadata": {},
   "outputs": [],
   "source": [
    "list(usa.neighbors)[0].name"
   ]
  },
  {
   "cell_type": "code",
   "execution_count": null,
   "metadata": {},
   "outputs": [],
   "source": [
    "# usa.edgesstr2neighborsname = {val: key.name for usa.neighbor2edgesstr}\n",
    "\n",
    "usa.edgesstr2neighborsname = {}\n",
    "for key,val in usa.neighbor2edgesstr.iteritems():\n",
    "    for edge_name in val:\n",
    "        usa.edgesstr2neighborsname[edge_name] = usa.edgesstr2neighborsname.get(edge_name, []) + [key.name]"
   ]
  },
  {
   "cell_type": "code",
   "execution_count": null,
   "metadata": {},
   "outputs": [],
   "source": [
    "usa.edgesstr2neighborsname['_profession']"
   ]
  },
  {
   "cell_type": "code",
   "execution_count": null,
   "metadata": {},
   "outputs": [],
   "source": [
    "# def follow_path_between_entities(head_name, tail_name, path):\n",
    "#     # get node objects\n",
    "#     head = sfe.graph.get_node(head_name)\n",
    "#     tail = sfe.graph.get_node(tail_name)\n",
    "#     # expand\n",
    "    \n",
    "#     level2nodes = [set(head)] # this list will store at each position a set of nodes that can be reached at the level of the path\n",
    "#     visited = set(head)\n",
    "#     for level,edge_str in enumerate(path):\n",
    "#         nodes = level2nodes[level]\n",
    "#         next_nodes = set()\n",
    "#         for node in nodes:\n",
    "#             next_nodes.add(node.edgestr2neighbors(edge_str))\n",
    "#         level2nodes.append(next_nodes - visited)\n",
    "#         visited.add(level2nodes[level])\n",
    "        \n",
    "# def dfs(head, path, visited=None):\n",
    "#     if visited is None:\n",
    "#         visited = set()\n",
    "#     visited.add(head)\n",
    "#     edge_str = path[0]\n",
    "#     for next_ in set(node.edgestr2neighbors(edge_str)) - visited:\n",
    "#         dfs(next_, path[1:], visited)\n",
    "#     return visited\n",
    "\n",
    "def dfs_node_sequence_from_path(start, goal, edges_path, nodes_path=None):\n",
    "    \"\"\"Performs a DFS following a restricted edges path. One may want to use this function\n",
    "    in order to search the possible nodes one visits when following a sequence of edges.\n",
    "    \n",
    "    Arguments:\n",
    "    - `start`: start node\n",
    "    - `goal`: goal node\n",
    "    - `edges_path`: a list containing the sequence of edge names you want to consider.\n",
    "    - `nodes_path` (optional): the current set of nodes the have been visited so far.\n",
    "    \"\"\"\n",
    "    if nodes_path is None:\n",
    "        nodes_path = [start]\n",
    "    if len(edges_path) == 0:\n",
    "        if start == goal: yield nodes_path\n",
    "    else:\n",
    "        for next_ in set(start.get_edgestr2neighbors(edges_path[0])) - set(nodes_path):\n",
    "            for p in dfs_node_sequence_from_path(next_, goal, edges_path[1:], nodes_path + [next_]):\n",
    "                yield p\n",
    "\n",
    "# def dfs_node_sequence_from_path(start, goal, edges_path):\n",
    "#     stack = [(start, [start])]\n",
    "#     while stack:\n",
    "#         (vertex, nodes_path) = stack.pop()\n",
    "# #         print vertex\n",
    "#         for next_ in set(start.get_edgestr2neighbors(edges_path[0])) - set(nodes_path):\n",
    "#             if next_ == goal:\n",
    "#                 yield nodes_path + [next_]\n",
    "#             else:\n",
    "#                 stack.append((next_, nodes_path + [next_]))\n",
    "                \n",
    "head = sfe.graph.get_node('emily_donelson')\n",
    "tail = sfe.graph.get_node('united_states')\n",
    "path = ('spouse', 'nationality', '_profession', 'profession')\n",
    "# path = ('nationality',)\n",
    "# path = ('spouse',)\n",
    "\n",
    "gen = dfs_node_sequence_from_path(head, tail, path)\n",
    "debug_print(next(gen))"
   ]
  },
  {
   "cell_type": "code",
   "execution_count": null,
   "metadata": {},
   "outputs": [],
   "source": [
    "debug_print(next(gen))"
   ]
  },
  {
   "cell_type": "code",
   "execution_count": null,
   "metadata": {},
   "outputs": [],
   "source": [
    "edges_path = ('spouse', 'nationality', '_profession', 'profession')\n",
    "neighbors = head.get_edgestr2neighbors(edges_path[0])\n",
    "neighbors[0].name"
   ]
  },
  {
   "cell_type": "code",
   "execution_count": null,
   "metadata": {},
   "outputs": [],
   "source": [
    "for next_ in set():\n",
    "    print 'fuck'"
   ]
  }
 ],
 "metadata": {
  "kernelspec": {
   "display_name": "Python 2",
   "language": "python",
   "name": "python2"
  },
  "language_info": {
   "codemirror_mode": {
    "name": "ipython",
    "version": 2
   },
   "file_extension": ".py",
   "mimetype": "text/x-python",
   "name": "python",
   "nbconvert_exporter": "python",
   "pygments_lexer": "ipython2",
   "version": "2.7.15"
  }
 },
 "nbformat": 4,
 "nbformat_minor": 2
}
