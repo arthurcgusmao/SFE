{
 "cells": [
  {
   "cell_type": "code",
   "execution_count": null,
   "metadata": {},
   "outputs": [],
   "source": [
    "# --- start make file run from another dir ---\n",
    "#\n",
    "# Note: File should be run from XKE root dir. E.g.:\n",
    "#\n",
    "#       $ cd Projects/XKE\n",
    "#       $ python examples/emb_grid_search/grid_search_TransE_FB13.py\n",
    "#\n",
    "import os, sys\n",
    "file_ = os.path.join(os.path.abspath(sys.path[0])) # use this when inside a jupyter notebook\n",
    "# file_ = __file__ # use this when running from command line\n",
    "xke_root = os.path.abspath(os.path.join(file_, \"../\"))\n",
    "sys.path.insert(0, xke_root)\n",
    "# --- end make file run from another dir ---"
   ]
  },
  {
   "cell_type": "code",
   "execution_count": null,
   "metadata": {},
   "outputs": [],
   "source": [
    "from tools.dataset_tools import generate_corrupted_training_examples\n",
    "\n",
    "dataset_path = '../benchmarks/NELL186'\n",
    "\n",
    "out = generate_corrupted_training_examples(\n",
    "    dataset_path=dataset_path,\n",
    "    neg_proportion=1,\n",
    "    bern=True,\n",
    "    output_include_pos=True\n",
    ")"
   ]
  },
  {
   "cell_type": "code",
   "execution_count": null,
   "metadata": {},
   "outputs": [],
   "source": [
    "from tools.dataset_tools import read_name2id_file\n",
    "\n",
    "e2id, id2e = read_name2id_file(dataset_path+'/entity2id.txt')\n",
    "r2id, id2r = read_name2id_file(dataset_path+'/relation2id.txt')\n",
    "\n",
    "import pandas as pd\n",
    "\n",
    "df = pd.DataFrame(out)\n",
    "df['head'] = df['head'].map(id2e)\n",
    "df['tail'] = df['tail'].map(id2e)\n",
    "df['relation'] = df['relation'].map(id2r)\n",
    "# df.replace({'head': id2e, 'tail': id2e, 'relation': id2r})"
   ]
  },
  {
   "cell_type": "code",
   "execution_count": null,
   "metadata": {},
   "outputs": [],
   "source": [
    "save_path = os.path.join(dataset_path, 'corrupted')\n",
    "os.makedirs(save_path)\n",
    "df.to_csv(os.path.join(save_path, 'train.txt'), sep='\\t', columns=['head', 'relation', 'tail', 'label'], index=False, header=False)"
   ]
  },
  {
   "cell_type": "code",
   "execution_count": null,
   "metadata": {},
   "outputs": [],
   "source": []
  }
 ],
 "metadata": {
  "kernelspec": {
   "display_name": "Python 2",
   "language": "python",
   "name": "python2"
  },
  "language_info": {
   "codemirror_mode": {
    "name": "ipython",
    "version": 2
   },
   "file_extension": ".py",
   "mimetype": "text/x-python",
   "name": "python",
   "nbconvert_exporter": "python",
   "pygments_lexer": "ipython2",
   "version": "2.7.15"
  }
 },
 "nbformat": 4,
 "nbformat_minor": 2
}
