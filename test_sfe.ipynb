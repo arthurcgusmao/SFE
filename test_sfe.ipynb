{
 "cells": [
  {
   "cell_type": "code",
   "execution_count": 1,
   "metadata": {},
   "outputs": [],
   "source": [
    "from sfe.sfe import Graph, SFE\n",
    "import pandas as pd\n",
    "import numpy as np\n",
    "import os, time"
   ]
  },
  {
   "cell_type": "code",
   "execution_count": 2,
   "metadata": {},
   "outputs": [],
   "source": [
    "train2id = pd.read_csv('./benchmarks/FB13/train2id.txt', sep=' ', skiprows=1, names=['head', 'tail', 'relation'])\n",
    "valid2id = pd.read_csv('./benchmarks/FB13/valid2id.txt', sep=' ', skiprows=1, names=['head', 'tail', 'relation'])\n",
    "\n",
    "from tools import dataset_tools\n",
    "entity2id, id2entity     = dataset_tools.read_name2id_file('./benchmarks/FB13/entity2id.txt')\n",
    "relation2id, id2relation = dataset_tools.read_name2id_file('./benchmarks/FB13/relation2id.txt')\n",
    "\n",
    "train = pd.read_csv('./benchmarks/FB13/train.txt', sep='\\t', skiprows=0, names=['head', 'relation', 'tail'])\n",
    "valid = pd.read_csv('./benchmarks/FB13/valid.txt', sep='\\t', skiprows=0, names=['head', 'relation', 'tail', 'label'])\n",
    "valid = valid.loc[valid['label'] == 1]"
   ]
  },
  {
   "cell_type": "code",
   "execution_count": 3,
   "metadata": {},
   "outputs": [
    {
     "name": "stdout",
     "output_type": "stream",
     "text": [
      "Elapsed time: 43.9185209274\n"
     ]
    }
   ],
   "source": [
    "start_time = time.time()\n",
    "g = Graph()\n",
    "g.partial_build_from_df(train)\n",
    "g.partial_build_from_df(valid)\n",
    "print(\"Elapsed time: {}\".format(time.time() - start_time))"
   ]
  },
  {
   "cell_type": "code",
   "execution_count": 4,
   "metadata": {},
   "outputs": [],
   "source": [
    "sfe = SFE(g)"
   ]
  },
  {
   "cell_type": "code",
   "execution_count": 5,
   "metadata": {},
   "outputs": [
    {
     "name": "stdout",
     "output_type": "stream",
     "text": [
      "time get nodes: 5.96046447754e-06\n",
      "time to find node sequences: 5.3416159153\n",
      "time to merge node sequences: 0.355556964874\n",
      "time to get paths: 0.19667506218\n",
      "CPU times: user 6.02 s, sys: 121 ms, total: 6.14 s\n",
      "Wall time: 6.05 s\n"
     ]
    }
   ],
   "source": [
    "%%time\n",
    "paths = sfe.search_paths('martin_van_buren', 'male', max_depth=2)"
   ]
  },
  {
   "cell_type": "code",
   "execution_count": 6,
   "metadata": {},
   "outputs": [
    {
     "name": "stdout",
     "output_type": "stream",
     "text": [
      "1 [('gender',)]\n",
      "2 [('children', 'gender'), ('_parents', 'gender')]\n",
      "3 [('profession', '_profession', 'gender'), ('place_of_death', '_place_of_birth', 'gender'), ('nationality', '_location', 'gender'), ('cause_of_death', '_cause_of_death', 'gender'), ('nationality', '_place_of_death', 'gender'), ('nationality', '_profession', 'gender'), ('nationality', '_place_of_birth', 'gender'), ('nationality', '_nationality', 'gender')]\n",
      "4 [('nationality', '_nationality', '_spouse', 'gender'), ('profession', '_profession', '_spouse', 'gender'), ('nationality', '_place_of_death', '_parents', 'gender'), ('cause_of_death', '_cause_of_death', 'parents', 'gender'), ('spouse', 'nationality', '_nationality', 'gender'), ('_spouse', 'location', '_location', 'gender'), ('cause_of_death', '_cause_of_death', '_children', 'gender'), ('_spouse', 'place_of_death', '_location', 'gender'), ('nationality', '_nationality', 'spouse', 'gender'), ('children', 'place_of_birth', '_place_of_death', 'gender'), ('_spouse', 'place_of_death', '_place_of_death', 'gender'), ('cause_of_death', '_cause_of_death', 'children', 'gender'), ('spouse', 'nationality', '_place_of_death', 'gender'), ('_spouse', 'cause_of_death', '_cause_of_death', 'gender'), ('spouse', 'location', '_location', 'gender'), ('spouse', 'location', '_place_of_birth', 'gender'), ('nationality', '_location', 'parents', 'gender'), ('nationality', '_nationality', 'parents', 'gender'), ('nationality', '_place_of_birth', 'parents', 'gender'), ('nationality', '_nationality', 'children', 'gender'), ('nationality', '_place_of_death', 'children', 'gender'), ('_parents', 'profession', '_profession', 'gender'), ('_spouse', 'nationality', '_nationality', 'gender'), ('_spouse', 'nationality', '_place_of_death', 'gender'), ('spouse', 'nationality', '_place_of_birth', 'gender'), ('spouse', 'place_of_death', '_location', 'gender'), ('_spouse', 'gender', '_gender', 'gender'), ('nationality', '_nationality', '_children', 'gender'), ('nationality', '_place_of_death', 'parents', 'gender'), ('_spouse', 'location', '_place_of_death', 'gender'), ('nationality', '_place_of_death', '_children', 'gender'), ('nationality', '_place_of_birth', '_children', 'gender'), ('profession', '_profession', '_parents', 'gender'), ('nationality', '_place_of_birth', 'children', 'gender'), ('nationality', '_location', '_children', 'gender'), ('profession', '_profession', '_children', 'gender'), ('cause_of_death', '_cause_of_death', '_parents', 'gender'), ('spouse', 'place_of_death', '_place_of_death', 'gender'), ('children', 'profession', '_profession', 'gender'), ('nationality', '_place_of_death', 'spouse', 'gender'), ('nationality', '_nationality', '_parents', 'gender'), ('profession', '_profession', 'children', 'gender'), ('children', 'place_of_birth', '_place_of_birth', 'gender'), ('nationality', '_place_of_birth', '_spouse', 'gender'), ('_parents', 'place_of_birth', '_place_of_death', 'gender'), ('spouse', 'place_of_death', '_place_of_birth', 'gender'), ('cause_of_death', '_cause_of_death', '_spouse', 'gender'), ('nationality', '_place_of_death', '_spouse', 'gender'), ('_spouse', 'nationality', '_profession', 'gender'), ('_spouse', 'location', '_place_of_birth', 'gender'), ('_parents', 'place_of_birth', '_place_of_birth', 'gender'), ('spouse', 'nationality', '_profession', 'gender'), ('_spouse', 'place_of_death', '_place_of_birth', 'gender'), ('_spouse', 'nationality', '_location', 'gender'), ('_spouse', 'nationality', '_place_of_birth', 'gender'), ('nationality', '_place_of_birth', '_parents', 'gender'), ('spouse', 'nationality', '_location', 'gender'), ('spouse', 'gender', '_gender', 'gender'), ('cause_of_death', '_cause_of_death', 'spouse', 'gender'), ('profession', '_profession', 'parents', 'gender'), ('spouse', 'cause_of_death', '_cause_of_death', 'gender'), ('profession', '_profession', 'spouse', 'gender'), ('spouse', 'location', '_place_of_death', 'gender'), ('nationality', '_place_of_birth', 'spouse', 'gender')]\n",
      "\n",
      "Number of paths: 75\n",
      "\n",
      "\n"
     ]
    }
   ],
   "source": [
    "lpaths = {}\n",
    "for path in paths:\n",
    "    lpaths[len(path)] = lpaths.get(len(path), []) + [path]\n",
    "for idx, ps in lpaths.iteritems():\n",
    "    print idx, ps\n",
    "print \"\\nNumber of paths: {}\\n\\n\".format(len(paths))"
   ]
  },
  {
   "cell_type": "code",
   "execution_count": 7,
   "metadata": {},
   "outputs": [],
   "source": [
    "# df = train[1230:1231]\n",
    "# feats = sfe.generate_features(df, max_depth=2)\n",
    "# feats = next(feats)"
   ]
  },
  {
   "cell_type": "code",
   "execution_count": 8,
   "metadata": {},
   "outputs": [],
   "source": [
    "# for idx,f_ in enumerate(feats):\n",
    "#     f = f_[1]\n",
    "#     row = df.iloc[idx]\n",
    "#     print(row['head'], row['relation'], row['tail'], f)\n",
    "#     print \"\\nNumber of features: {}\\n\\n\".format(len(f))"
   ]
  },
  {
   "cell_type": "code",
   "execution_count": null,
   "metadata": {},
   "outputs": [],
   "source": []
  },
  {
   "cell_type": "code",
   "execution_count": null,
   "metadata": {},
   "outputs": [],
   "source": []
  },
  {
   "cell_type": "code",
   "execution_count": null,
   "metadata": {},
   "outputs": [],
   "source": []
  },
  {
   "cell_type": "markdown",
   "metadata": {},
   "source": [
    "Experimenting with IDs instead of names: it did not help much."
   ]
  },
  {
   "cell_type": "code",
   "execution_count": 9,
   "metadata": {},
   "outputs": [
    {
     "ename": "KeyboardInterrupt",
     "evalue": "",
     "output_type": "error",
     "traceback": [
      "\u001b[0;31m---------------------------------------------------------------------------\u001b[0m",
      "\u001b[0;31mKeyboardInterrupt\u001b[0m                         Traceback (most recent call last)",
      "\u001b[0;32m<ipython-input-9-fc0522f3210f>\u001b[0m in \u001b[0;36m<module>\u001b[0;34m()\u001b[0m\n\u001b[1;32m      1\u001b[0m \u001b[0mstart_time\u001b[0m \u001b[0;34m=\u001b[0m \u001b[0mtime\u001b[0m\u001b[0;34m.\u001b[0m\u001b[0mtime\u001b[0m\u001b[0;34m(\u001b[0m\u001b[0;34m)\u001b[0m\u001b[0;34m\u001b[0m\u001b[0m\n\u001b[1;32m      2\u001b[0m \u001b[0mg2\u001b[0m \u001b[0;34m=\u001b[0m \u001b[0mGraph\u001b[0m\u001b[0;34m(\u001b[0m\u001b[0;34m)\u001b[0m\u001b[0;34m\u001b[0m\u001b[0m\n\u001b[0;32m----> 3\u001b[0;31m \u001b[0mg2\u001b[0m\u001b[0;34m.\u001b[0m\u001b[0mpartial_build_from_df\u001b[0m\u001b[0;34m(\u001b[0m\u001b[0mtrain2id\u001b[0m\u001b[0;34m)\u001b[0m\u001b[0;34m\u001b[0m\u001b[0m\n\u001b[0m\u001b[1;32m      4\u001b[0m \u001b[0mg2\u001b[0m\u001b[0;34m.\u001b[0m\u001b[0mpartial_build_from_df\u001b[0m\u001b[0;34m(\u001b[0m\u001b[0mvalid2id\u001b[0m\u001b[0;34m)\u001b[0m\u001b[0;34m\u001b[0m\u001b[0m\n\u001b[1;32m      5\u001b[0m \u001b[0;32mprint\u001b[0m\u001b[0;34m(\u001b[0m\u001b[0;34m\"Elapsed time: {}\"\u001b[0m\u001b[0;34m.\u001b[0m\u001b[0mformat\u001b[0m\u001b[0;34m(\u001b[0m\u001b[0mtime\u001b[0m\u001b[0;34m.\u001b[0m\u001b[0mtime\u001b[0m\u001b[0;34m(\u001b[0m\u001b[0;34m)\u001b[0m \u001b[0;34m-\u001b[0m \u001b[0mstart_time\u001b[0m\u001b[0;34m)\u001b[0m\u001b[0;34m)\u001b[0m\u001b[0;34m\u001b[0m\u001b[0m\n",
      "\u001b[0;32m/home/arthurcgusmao/Projects/xkbc/algorithms/OpenKE/sfe/sfe.py\u001b[0m in \u001b[0;36mpartial_build_from_df\u001b[0;34m(self, df)\u001b[0m\n\u001b[1;32m     59\u001b[0m         \u001b[0mEach\u001b[0m \u001b[0mrow\u001b[0m \u001b[0mrepresents\u001b[0m \u001b[0ma\u001b[0m \u001b[0mtriple\u001b[0m \u001b[0;32min\u001b[0m \u001b[0ma\u001b[0m \u001b[0mknowledge\u001b[0m \u001b[0mgraph\u001b[0m\u001b[0;34m.\u001b[0m\u001b[0;34m\u001b[0m\u001b[0m\n\u001b[1;32m     60\u001b[0m         \"\"\"\n\u001b[0;32m---> 61\u001b[0;31m         \u001b[0;32mfor\u001b[0m \u001b[0midx\u001b[0m\u001b[0;34m,\u001b[0m\u001b[0mrow\u001b[0m \u001b[0;32min\u001b[0m \u001b[0mdf\u001b[0m\u001b[0;34m.\u001b[0m\u001b[0miterrows\u001b[0m\u001b[0;34m(\u001b[0m\u001b[0;34m)\u001b[0m\u001b[0;34m:\u001b[0m\u001b[0;34m\u001b[0m\u001b[0m\n\u001b[0m\u001b[1;32m     62\u001b[0m             \u001b[0mhead\u001b[0m \u001b[0;34m=\u001b[0m \u001b[0mself\u001b[0m\u001b[0;34m.\u001b[0m\u001b[0mget_node\u001b[0m\u001b[0;34m(\u001b[0m\u001b[0mrow\u001b[0m\u001b[0;34m[\u001b[0m\u001b[0;34m'head'\u001b[0m\u001b[0;34m]\u001b[0m\u001b[0;34m,\u001b[0m \u001b[0mcreate\u001b[0m\u001b[0;34m=\u001b[0m\u001b[0mTrue\u001b[0m\u001b[0;34m)\u001b[0m\u001b[0;34m\u001b[0m\u001b[0m\n\u001b[1;32m     63\u001b[0m             \u001b[0mtail\u001b[0m \u001b[0;34m=\u001b[0m \u001b[0mself\u001b[0m\u001b[0;34m.\u001b[0m\u001b[0mget_node\u001b[0m\u001b[0;34m(\u001b[0m\u001b[0mrow\u001b[0m\u001b[0;34m[\u001b[0m\u001b[0;34m'tail'\u001b[0m\u001b[0;34m]\u001b[0m\u001b[0;34m,\u001b[0m \u001b[0mcreate\u001b[0m\u001b[0;34m=\u001b[0m\u001b[0mTrue\u001b[0m\u001b[0;34m)\u001b[0m\u001b[0;34m\u001b[0m\u001b[0m\n",
      "\u001b[0;32m/home/arthurcgusmao/.miniconda3/envs/openke/lib/python2.7/site-packages/pandas/core/frame.pyc\u001b[0m in \u001b[0;36miterrows\u001b[0;34m(self)\u001b[0m\n\u001b[1;32m    746\u001b[0m         \u001b[0mklass\u001b[0m \u001b[0;34m=\u001b[0m \u001b[0mself\u001b[0m\u001b[0;34m.\u001b[0m\u001b[0m_constructor_sliced\u001b[0m\u001b[0;34m\u001b[0m\u001b[0m\n\u001b[1;32m    747\u001b[0m         \u001b[0;32mfor\u001b[0m \u001b[0mk\u001b[0m\u001b[0;34m,\u001b[0m \u001b[0mv\u001b[0m \u001b[0;32min\u001b[0m \u001b[0mzip\u001b[0m\u001b[0;34m(\u001b[0m\u001b[0mself\u001b[0m\u001b[0;34m.\u001b[0m\u001b[0mindex\u001b[0m\u001b[0;34m,\u001b[0m \u001b[0mself\u001b[0m\u001b[0;34m.\u001b[0m\u001b[0mvalues\u001b[0m\u001b[0;34m)\u001b[0m\u001b[0;34m:\u001b[0m\u001b[0;34m\u001b[0m\u001b[0m\n\u001b[0;32m--> 748\u001b[0;31m             \u001b[0ms\u001b[0m \u001b[0;34m=\u001b[0m \u001b[0mklass\u001b[0m\u001b[0;34m(\u001b[0m\u001b[0mv\u001b[0m\u001b[0;34m,\u001b[0m \u001b[0mindex\u001b[0m\u001b[0;34m=\u001b[0m\u001b[0mcolumns\u001b[0m\u001b[0;34m,\u001b[0m \u001b[0mname\u001b[0m\u001b[0;34m=\u001b[0m\u001b[0mk\u001b[0m\u001b[0;34m)\u001b[0m\u001b[0;34m\u001b[0m\u001b[0m\n\u001b[0m\u001b[1;32m    749\u001b[0m             \u001b[0;32myield\u001b[0m \u001b[0mk\u001b[0m\u001b[0;34m,\u001b[0m \u001b[0ms\u001b[0m\u001b[0;34m\u001b[0m\u001b[0m\n\u001b[1;32m    750\u001b[0m \u001b[0;34m\u001b[0m\u001b[0m\n",
      "\u001b[0;32m/home/arthurcgusmao/.miniconda3/envs/openke/lib/python2.7/site-packages/pandas/core/series.pyc\u001b[0m in \u001b[0;36m__init__\u001b[0;34m(self, data, index, dtype, name, copy, fastpath)\u001b[0m\n\u001b[1;32m    268\u001b[0m         \u001b[0mgeneric\u001b[0m\u001b[0;34m.\u001b[0m\u001b[0mNDFrame\u001b[0m\u001b[0;34m.\u001b[0m\u001b[0m__init__\u001b[0m\u001b[0;34m(\u001b[0m\u001b[0mself\u001b[0m\u001b[0;34m,\u001b[0m \u001b[0mdata\u001b[0m\u001b[0;34m,\u001b[0m \u001b[0mfastpath\u001b[0m\u001b[0;34m=\u001b[0m\u001b[0mTrue\u001b[0m\u001b[0;34m)\u001b[0m\u001b[0;34m\u001b[0m\u001b[0m\n\u001b[1;32m    269\u001b[0m \u001b[0;34m\u001b[0m\u001b[0m\n\u001b[0;32m--> 270\u001b[0;31m         \u001b[0mself\u001b[0m\u001b[0;34m.\u001b[0m\u001b[0mname\u001b[0m \u001b[0;34m=\u001b[0m \u001b[0mname\u001b[0m\u001b[0;34m\u001b[0m\u001b[0m\n\u001b[0m\u001b[1;32m    271\u001b[0m         \u001b[0mself\u001b[0m\u001b[0;34m.\u001b[0m\u001b[0m_set_axis\u001b[0m\u001b[0;34m(\u001b[0m\u001b[0;36m0\u001b[0m\u001b[0;34m,\u001b[0m \u001b[0mindex\u001b[0m\u001b[0;34m,\u001b[0m \u001b[0mfastpath\u001b[0m\u001b[0;34m=\u001b[0m\u001b[0mTrue\u001b[0m\u001b[0;34m)\u001b[0m\u001b[0;34m\u001b[0m\u001b[0m\n\u001b[1;32m    272\u001b[0m \u001b[0;34m\u001b[0m\u001b[0m\n",
      "\u001b[0;31mKeyboardInterrupt\u001b[0m: "
     ]
    }
   ],
   "source": [
    "start_time = time.time()\n",
    "g2 = Graph()\n",
    "g2.partial_build_from_df(train2id)\n",
    "g2.partial_build_from_df(valid2id)\n",
    "print(\"Elapsed time: {}\".format(time.time() - start_time))"
   ]
  },
  {
   "cell_type": "code",
   "execution_count": null,
   "metadata": {},
   "outputs": [],
   "source": [
    "sfe2 = SFE(g2)"
   ]
  },
  {
   "cell_type": "code",
   "execution_count": null,
   "metadata": {},
   "outputs": [],
   "source": [
    "%%timeit\n",
    "df = train2id[1230:1231]\n",
    "feats = sfe2.generate_features(df, max_depth=2)\n",
    "feats = next(feats)"
   ]
  },
  {
   "cell_type": "code",
   "execution_count": null,
   "metadata": {},
   "outputs": [],
   "source": [
    "%%timeit\n",
    "paths = sfe2.search_paths(entity2id['beals_wright'], entity2id['male'], max_depth=2)"
   ]
  },
  {
   "cell_type": "code",
   "execution_count": null,
   "metadata": {},
   "outputs": [],
   "source": []
  },
  {
   "cell_type": "code",
   "execution_count": null,
   "metadata": {},
   "outputs": [],
   "source": []
  },
  {
   "cell_type": "code",
   "execution_count": null,
   "metadata": {},
   "outputs": [],
   "source": [
    "for idx,f in feats:\n",
    "    print idx\n",
    "    row = df.iloc[idx]\n",
    "    print(row['head'], row['relation'], row['tail'], f)"
   ]
  },
  {
   "cell_type": "code",
   "execution_count": null,
   "metadata": {},
   "outputs": [],
   "source": [
    "head, rel, tail, paths = (29639, 6, 67575, [['10', '_5'], ['_9', '_5'], ['9', '_5'], ['_10', '_5'], ['2', '_2', '_5'], ['_11', '_5'], ['11', '_5']])"
   ]
  },
  {
   "cell_type": "code",
   "execution_count": null,
   "metadata": {},
   "outputs": [],
   "source": [
    "print id2entity[head]\n",
    "print id2relation[rel]\n",
    "print id2entity[tail]\n",
    "for path in paths:\n",
    "    p = []\n",
    "    for r in path:\n",
    "        relation_id = int(r.replace('_', ''))\n",
    "        relation_label = id2relation[relation_id]\n",
    "        p.append(r.replace(str(relation_id), relation_label))\n",
    "    print p"
   ]
  },
  {
   "cell_type": "markdown",
   "metadata": {},
   "source": [
    "PRA results for `camilo_jose_cela` `nationality` `spain`:\n",
    "\n",
    "```\n",
    "-gender-_gender-place_of_birth-,1.0 -#-\n",
    "-gender-_gender-location-,1.0 -#-\n",
    "-gender-_gender-place_of_death-,1.0 -#-\n",
    "-profession-_profession-place_of_birth-,1.0 -#-\n",
    "-profession-_profession-place_of_death-,1.0 -#-\n",
    "-place_of_death-_place_of_death-place_of_birth-,1.0 -#-\n",
    "-place_of_death-_location-place_of_birth-,1.0 -#-\n",
    "-place_of_death-_place_of_birth-place_of_death-,1.0 -#-\n",
    "-place_of_death-_place_of_death-location-,1.0 -#-\n",
    "-place_of_death-_location-location-,1.0 -#-\n",
    "-profession-_profession-location-,1.0 -#-\n",
    "-gender-_gender-institution-,1.0\n",
    "```"
   ]
  },
  {
   "cell_type": "code",
   "execution_count": null,
   "metadata": {},
   "outputs": [],
   "source": [
    "paths = sfe.search_paths('spain', 'camilo_jose_cela', max_depth=2)\n",
    "for path in paths:\n",
    "    path_strings = []\n",
    "    for r in path:\n",
    "        path_strings.append(r.__str__())\n",
    "    print path_strings"
   ]
  },
  {
   "cell_type": "code",
   "execution_count": null,
   "metadata": {},
   "outputs": [],
   "source": [
    "node = sfe.graph.get_node('menasseh_ben_israel')"
   ]
  },
  {
   "cell_type": "code",
   "execution_count": null,
   "metadata": {},
   "outputs": [],
   "source": [
    "for n in node.neighbors: print n"
   ]
  },
  {
   "cell_type": "code",
   "execution_count": null,
   "metadata": {},
   "outputs": [],
   "source": [
    "node = sfe.graph.get_node('spain')\n",
    "for n in node.neighbors: print n"
   ]
  },
  {
   "cell_type": "code",
   "execution_count": null,
   "metadata": {},
   "outputs": [],
   "source": [
    "sfe.graph.get_node('richard_baxter') in node.neighbors"
   ]
  },
  {
   "cell_type": "code",
   "execution_count": null,
   "metadata": {},
   "outputs": [],
   "source": [
    "# run for one triple\n",
    "start_time = time.time()\n",
    "paths = sfe.extract_features(0, 67393, 2)\n",
    "for p in paths:\n",
    "    print \"-----------path-----------\"\n",
    "    for e in p:\n",
    "        print e.__str__()\n",
    "print(\"Elapsed time: {}\".format(time.time() - start_time))"
   ]
  },
  {
   "cell_type": "code",
   "execution_count": null,
   "metadata": {},
   "outputs": [],
   "source": [
    "# run for n triples\n",
    "start_time = time.time()\n",
    "res = []\n",
    "for idx,row in train[:100].iterrows():\n",
    "    res.append(sfe.extract_features(row['head'], row['tail'], 2))\n",
    "print(\"Elapsed time: {}\".format(time.time() - start_time))"
   ]
  },
  {
   "cell_type": "code",
   "execution_count": null,
   "metadata": {},
   "outputs": [],
   "source": [
    "with open('output_test.txt', 'w') as f:\n",
    "    for row in res:\n",
    "        for seq in row:\n",
    "            for edge in seq:\n",
    "                f.write(edge.__str__())\n",
    "                f.write(',')\n",
    "            f.write(\"\\n\")"
   ]
  },
  {
   "cell_type": "code",
   "execution_count": null,
   "metadata": {},
   "outputs": [],
   "source": [
    "!cat output_test.txt"
   ]
  },
  {
   "cell_type": "code",
   "execution_count": null,
   "metadata": {},
   "outputs": [],
   "source": []
  },
  {
   "cell_type": "code",
   "execution_count": null,
   "metadata": {},
   "outputs": [],
   "source": []
  },
  {
   "cell_type": "code",
   "execution_count": null,
   "metadata": {},
   "outputs": [],
   "source": []
  },
  {
   "cell_type": "markdown",
   "metadata": {},
   "source": [
    "# Debug python"
   ]
  },
  {
   "cell_type": "code",
   "execution_count": null,
   "metadata": {},
   "outputs": [],
   "source": [
    "l = [1,2,3,4,5,6]"
   ]
  },
  {
   "cell_type": "code",
   "execution_count": null,
   "metadata": {},
   "outputs": [],
   "source": [
    "l.remove(3)"
   ]
  },
  {
   "cell_type": "code",
   "execution_count": null,
   "metadata": {},
   "outputs": [],
   "source": [
    "l"
   ]
  },
  {
   "cell_type": "code",
   "execution_count": null,
   "metadata": {},
   "outputs": [],
   "source": [
    "s = {1,2,3,4}"
   ]
  },
  {
   "cell_type": "code",
   "execution_count": null,
   "metadata": {},
   "outputs": [],
   "source": [
    "s - {4}"
   ]
  },
  {
   "cell_type": "code",
   "execution_count": null,
   "metadata": {},
   "outputs": [],
   "source": [
    "s"
   ]
  },
  {
   "cell_type": "code",
   "execution_count": null,
   "metadata": {},
   "outputs": [],
   "source": [
    "from itertools import product\n",
    "l = [[1], [5,90,84]]\n",
    "res = product(*l)\n",
    "s = set()\n",
    "s.update(res)\n",
    "s"
   ]
  }
 ],
 "metadata": {
  "kernelspec": {
   "display_name": "Python 2",
   "language": "python",
   "name": "python2"
  },
  "language_info": {
   "codemirror_mode": {
    "name": "ipython",
    "version": 2
   },
   "file_extension": ".py",
   "mimetype": "text/x-python",
   "name": "python",
   "nbconvert_exporter": "python",
   "pygments_lexer": "ipython2",
   "version": "2.7.14"
  }
 },
 "nbformat": 4,
 "nbformat_minor": 2
}
