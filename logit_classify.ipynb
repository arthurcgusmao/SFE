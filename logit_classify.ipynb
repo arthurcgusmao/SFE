{
 "cells": [
  {
   "cell_type": "code",
   "execution_count": 2,
   "metadata": {},
   "outputs": [],
   "source": [
    "# --- start make file run from another dir ---\n",
    "#\n",
    "# Note: File should be run from XKE root dir. E.g.:\n",
    "#\n",
    "#       $ cd Projects/XKE\n",
    "#       $ python examples/emb_grid_search/grid_search_TransE_FB13.py\n",
    "#\n",
    "import os, sys\n",
    "file_ = os.path.join(os.path.abspath(sys.path[0])) # use this when inside a jupyter notebook\n",
    "# file_ = __file__ # use this when running from command line\n",
    "xke_root = os.path.abspath(os.path.join(file_, \"../\"))\n",
    "sys.path.insert(0, xke_root)\n",
    "# --- end make file run from another dir ---"
   ]
  },
  {
   "cell_type": "code",
   "execution_count": 3,
   "metadata": {
    "scrolled": false
   },
   "outputs": [],
   "source": [
    "from explain.pipeline import pipeline, process_overall_metrics_wo_emb\n",
    "\n",
    "dataset_name = 'NELL186'\n",
    "splits = ['1549027845']"
   ]
  },
  {
   "cell_type": "code",
   "execution_count": 4,
   "metadata": {},
   "outputs": [],
   "source": [
    "pra_results_path  = './results/{}/'.format(dataset_name),\n",
    "expl_results_path = './results_explained/{}/'.format(dataset_name)"
   ]
  },
  {
   "cell_type": "code",
   "execution_count": null,
   "metadata": {},
   "outputs": [],
   "source": [
    "pipeline(\n",
    "    '../benchmarks/{}'.format(dataset_name),\n",
    "    splits=splits,\n",
    "    adapt_run_sfe_wo_emb={\n",
    "        'pra_results_path': pra_results_path,\n",
    "        'expl_results_path': expl_results_path,\n",
    "    })"
   ]
  },
  {
   "cell_type": "code",
   "execution_count": 6,
   "metadata": {},
   "outputs": [],
   "source": [
    "overalls = process_overall_metrics_wo_emb(\n",
    "    dataset_paths=['../benchmarks/{}'.format(dataset_name)],\n",
    "    pra_results_path=pra_results_path,\n",
    "    expl_results_path=expl_results_path,\n",
    "    splits=splits\n",
    ")"
   ]
  },
  {
   "cell_type": "code",
   "execution_count": 7,
   "metadata": {
    "scrolled": false
   },
   "outputs": [
    {
     "data": {
      "text/plain": [
       "[{'(macro) Embedding Test Accuracy': 1.0,\n",
       "  '(macro) Embedding Train Accuracy': 0.99928776296823,\n",
       "  '(macro) Test # Features / Example': 37.477209742216864,\n",
       "  '(macro) Test # Features / Example (Filter # Features > 0)': 73.42421752914406,\n",
       "  '(macro) Test # Relevant Features / Example': 13.76076262154197,\n",
       "  '(macro) Test # Relevant Features / Example (Filter # Relevant Features > 0)': 27.784092391233216,\n",
       "  '(macro) Test % Examples with # Features > 0': 0.46877650870318127,\n",
       "  '(macro) Test % Examples with # Relevant Features > 0': 0.44786763890396336,\n",
       "  '(macro) Test Accuracy': 0.8858148271712892,\n",
       "  '(macro) Test Accuracy (Filter # Features > 0)': 0.9066473599162039,\n",
       "  '(macro) Test Accuracy (Filter # Relevant Features > 0)': 0.929984445274101,\n",
       "  '(macro) Test Accuracy (Weighted # Features)': 0.9296710658036396,\n",
       "  '(macro) Test Accuracy (Weighted # Relevant Features)': 0.9464932245887817,\n",
       "  '(macro) Test F1_score': 0.846587472928723,\n",
       "  '(macro) Test Mean Relevant Rule Length': 3.3399435099745354,\n",
       "  '(macro) Test Mean Rule Length': 3.4548764688434392,\n",
       "  '(macro) Test Positive Ratio': 0.5,\n",
       "  '(macro) Test Precision': 0.9399462026002667,\n",
       "  '(macro) Test Recall': 0.7914100092284352,\n",
       "  '(macro) Train # Features / Example': 39.54944466945663,\n",
       "  '(macro) Train # Features / Example (Filter # Features > 0)': 60.93973905434577,\n",
       "  '(macro) Train # Relevant Features / Example': 14.892934583250614,\n",
       "  '(macro) Train # Relevant Features / Example (Filter # Relevant Features > 0)': 23.875154248133367,\n",
       "  '(macro) Train % Examples with # Features > 0': 0.5932700622740039,\n",
       "  '(macro) Train % Examples with # Relevant Features > 0': 0.5747507512755434,\n",
       "  '(macro) Train Accuracy': 0.9405284175725569,\n",
       "  '(macro) Train Accuracy (Filter # Features > 0)': 0.9928935179733167,\n",
       "  '(macro) Train Accuracy (Filter # Relevant Features > 0)': 0.9947035239305559,\n",
       "  '(macro) Train Accuracy (Weighted # Features)': 0.9955242306597719,\n",
       "  '(macro) Train Accuracy (Weighted # Relevant Features)': 0.9959330453882763,\n",
       "  '(macro) Train F1_score': 0.930526927467911,\n",
       "  '(macro) Train Mean Relevant Rule Length': 3.4901647273501473,\n",
       "  '(macro) Train Mean Rule Length': 3.5841923522039965,\n",
       "  '(macro) Train Positive Ratio': 0.5,\n",
       "  '(macro) Train Precision': 0.9966305492116265,\n",
       "  '(macro) Train Recall': 0.8836849432979554,\n",
       "  '(macro) True Test Accuracy': 0.8858148271712892,\n",
       "  '(macro) True Test Accuracy (Filter # Features > 0)': 0.9066473599162039,\n",
       "  '(macro) True Test Accuracy (Filter # Relevant Features > 0)': 0.929984445274101,\n",
       "  '(macro) True Test Accuracy (Weighted # Features)': 0.9296710658036396,\n",
       "  '(macro) True Test Accuracy (Weighted # Relevant Features)': 0.9464932245887817,\n",
       "  '(macro) True Test F1_score': 0.846587472928723,\n",
       "  '(macro) True Test Positive Ratio': 0.5,\n",
       "  '(macro) True Test Precision': 0.9399462026002667,\n",
       "  '(macro) True Test Recall': 0.7914100092284352,\n",
       "  '(macro) True Train Accuracy': 0.9407738649892908,\n",
       "  '(macro) True Train Accuracy (Filter # Features > 0)': 0.9935409598990984,\n",
       "  '(macro) True Train Accuracy (Filter # Relevant Features > 0)': 0.9954162826420019,\n",
       "  '(macro) True Train Accuracy (Weighted # Features)': 0.9955712572369623,\n",
       "  '(macro) True Train Accuracy (Weighted # Relevant Features)': 0.9959847536661532,\n",
       "  '(macro) True Train F1_score': 0.930845310661392,\n",
       "  '(macro) True Train Positive Ratio': 0.5007122370317701,\n",
       "  '(macro) True Train Precision': 0.9976864872875177,\n",
       "  '(macro) True Train Recall': 0.8834418527672145,\n",
       "  'Embedding Test Accuracy': 1.0,\n",
       "  'Embedding Train Accuracy': 0.9973024083653151,\n",
       "  'Test # Features / Example': 45.024,\n",
       "  'Test # Features / Example (Filter # Features > 0)': 92.14899713467048,\n",
       "  'Test # Relevant Features / Example': 18.6925,\n",
       "  'Test # Relevant Features / Example (Filter # Relevant Features > 0)': 40.268203360620426,\n",
       "  'Test % Examples with # Features > 0': 0.4886,\n",
       "  'Test % Examples with # Relevant Features > 0': 0.4642,\n",
       "  'Test Accuracy': 0.898,\n",
       "  'Test Accuracy (Filter # Features > 0)': 0.9191567744576341,\n",
       "  'Test Accuracy (Filter # Relevant Features > 0)': 0.9364498061180526,\n",
       "  'Test Accuracy (Weighted # Features)': 0.9671952736318408,\n",
       "  'Test Accuracy (Weighted # Relevant Features)': 0.9637180687441487,\n",
       "  'Test F1_score': 0.8775981315746736,\n",
       "  'Test Mean Relevant Rule Length': 3.746170924167447,\n",
       "  'Test Mean Rule Length': 3.8130996801705757,\n",
       "  'Test Positive Ratio': 0.5,\n",
       "  'Test Precision': 0.9749258321895548,\n",
       "  'Test Recall': 0.814,\n",
       "  'Train # Features / Example': 36.16852995161021,\n",
       "  'Train # Features / Example (Filter # Features > 0)': 64.0443196927168,\n",
       "  'Train # Relevant Features / Example': 15.035861282607486,\n",
       "  'Train # Relevant Features / Example (Filter # Relevant Features > 0)': 28.305298151929218,\n",
       "  'Train % Examples with # Features > 0': 0.5647421992324378,\n",
       "  'Train % Examples with # Relevant Features > 0': 0.5312030702486233,\n",
       "  'Train Accuracy': 0.9222565214973024,\n",
       "  'Train Accuracy (Filter # Features > 0)': 0.9868025803909982,\n",
       "  'Train Accuracy (Filter # Relevant Features > 0)': 0.9884822784147427,\n",
       "  'Train Accuracy (Weighted # Features)': 0.9968278756339636,\n",
       "  'Train Accuracy (Weighted # Relevant Features)': 0.9966994013792415,\n",
       "  'Train F1_score': 0.9071651835688644,\n",
       "  'Train Mean Relevant Rule Length': 3.72596985718368,\n",
       "  'Train Mean Rule Length': 3.803712358175169,\n",
       "  'Train Positive Ratio': 0.5,\n",
       "  'Train Precision': 0.9899198731630078,\n",
       "  'Train Recall': 0.8525223872295455,\n",
       "  'True Test Accuracy': 0.898,\n",
       "  'True Test Accuracy (Filter # Features > 0)': 0.9191567744576341,\n",
       "  'True Test Accuracy (Filter # Relevant Features > 0)': 0.9364498061180526,\n",
       "  'True Test Accuracy (Weighted # Features)': 0.9671952736318408,\n",
       "  'True Test Accuracy (Weighted # Relevant Features)': 0.9637180687441487,\n",
       "  'True Test F1_score': 0.8775981315746736,\n",
       "  'True Test Positive Ratio': 0.5,\n",
       "  'True Test Precision': 0.9749258321895548,\n",
       "  'True Test Recall': 0.814,\n",
       "  'True Train Accuracy': 0.923341120195784,\n",
       "  'True Train Accuracy (Filter # Features > 0)': 0.9898310927266459,\n",
       "  'True Train Accuracy (Filter # Relevant Features > 0)': 0.991728181770588,\n",
       "  'True Train Accuracy (Weighted # Features)': 0.9970162577621126,\n",
       "  'True Train Accuracy (Weighted # Relevant Features)': 0.9971109358108015,\n",
       "  'True Train F1_score': 0.9085902689831286,\n",
       "  'True Train Positive Ratio': 0.5026975916346849,\n",
       "  'True Train Precision': 0.9941109822572674,\n",
       "  'True Train Recall': 0.8519958661749091,\n",
       "  'dataset_name': 'NELL186',\n",
       "  'model_name': '-',\n",
       "  'split': '1549027845',\n",
       "  'timestamp': '-'}]"
      ]
     },
     "execution_count": 7,
     "metadata": {},
     "output_type": "execute_result"
    }
   ],
   "source": [
    "overalls"
   ]
  }
 ],
 "metadata": {
  "kernelspec": {
   "display_name": "Python 2",
   "language": "python",
   "name": "python2"
  },
  "language_info": {
   "codemirror_mode": {
    "name": "ipython",
    "version": 2
   },
   "file_extension": ".py",
   "mimetype": "text/x-python",
   "name": "python",
   "nbconvert_exporter": "python",
   "pygments_lexer": "ipython2",
   "version": "2.7.15"
  }
 },
 "nbformat": 4,
 "nbformat_minor": 2
}
